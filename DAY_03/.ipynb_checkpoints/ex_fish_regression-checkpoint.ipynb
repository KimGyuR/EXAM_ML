{
 "cells": [
  {
   "cell_type": "markdown",
   "id": "097b1783",
   "metadata": {},
   "source": [
    "### 목표: 무게에 따른 길이 예측 모델\n",
    "- 데이터 : fish.csv\n",
    "- 피쳐: Weight\n",
    "- 타겟: Length"
   ]
  },
  {
   "cell_type": "markdown",
   "id": "86e1ddc1",
   "metadata": {},
   "source": [
    "(1) 모듈 로딩, 데이터 준비"
   ]
  },
  {
   "cell_type": "code",
   "execution_count": 2,
   "id": "efb71c37",
   "metadata": {},
   "outputs": [
    {
     "data": {
      "text/html": [
       "<div>\n",
       "<style scoped>\n",
       "    .dataframe tbody tr th:only-of-type {\n",
       "        vertical-align: middle;\n",
       "    }\n",
       "\n",
       "    .dataframe tbody tr th {\n",
       "        vertical-align: top;\n",
       "    }\n",
       "\n",
       "    .dataframe thead th {\n",
       "        text-align: right;\n",
       "    }\n",
       "</style>\n",
       "<table border=\"1\" class=\"dataframe\">\n",
       "  <thead>\n",
       "    <tr style=\"text-align: right;\">\n",
       "      <th></th>\n",
       "      <th>Species</th>\n",
       "      <th>Weight</th>\n",
       "      <th>Length</th>\n",
       "    </tr>\n",
       "  </thead>\n",
       "  <tbody>\n",
       "    <tr>\n",
       "      <th>0</th>\n",
       "      <td>Bream</td>\n",
       "      <td>242.0</td>\n",
       "      <td>25.4</td>\n",
       "    </tr>\n",
       "    <tr>\n",
       "      <th>1</th>\n",
       "      <td>Bream</td>\n",
       "      <td>290.0</td>\n",
       "      <td>26.3</td>\n",
       "    </tr>\n",
       "    <tr>\n",
       "      <th>2</th>\n",
       "      <td>Bream</td>\n",
       "      <td>340.0</td>\n",
       "      <td>26.5</td>\n",
       "    </tr>\n",
       "    <tr>\n",
       "      <th>3</th>\n",
       "      <td>Bream</td>\n",
       "      <td>363.0</td>\n",
       "      <td>29.0</td>\n",
       "    </tr>\n",
       "    <tr>\n",
       "      <th>4</th>\n",
       "      <td>Bream</td>\n",
       "      <td>430.0</td>\n",
       "      <td>29.0</td>\n",
       "    </tr>\n",
       "  </tbody>\n",
       "</table>\n",
       "</div>"
      ],
      "text/plain": [
       "  Species  Weight  Length\n",
       "0   Bream   242.0    25.4\n",
       "1   Bream   290.0    26.3\n",
       "2   Bream   340.0    26.5\n",
       "3   Bream   363.0    29.0\n",
       "4   Bream   430.0    29.0"
      ]
     },
     "execution_count": 2,
     "metadata": {},
     "output_type": "execute_result"
    }
   ],
   "source": [
    "import pandas as pd\n",
    "import matplotlib.pyplot as plt\n",
    "import seaborn as sns\n",
    "from sklearn.preprocessing import StandardScaler, MinMaxScaler\n",
    "from sklearn.linear_model import LinearRegression\n",
    "import numpy as np\n",
    "\n",
    "fishDF = pd.read_csv('../data/fish.csv', usecols=[0,1,2])\n",
    "fishDF.head()"
   ]
  },
  {
   "cell_type": "code",
   "execution_count": 4,
   "id": "3e03754d",
   "metadata": {},
   "outputs": [],
   "source": [
    "# 학습에 사용할 데이터 추출하기: perch 행\n",
    "perch = fishDF[fishDF.Species == 'Perch']\n",
    "\n",
    "# 인덱스 정리\n",
    "perch.reset_index(drop = True, inplace=True)"
   ]
  },
  {
   "cell_type": "code",
   "execution_count": 5,
   "id": "183041c2",
   "metadata": {},
   "outputs": [
    {
     "data": {
      "text/html": [
       "<div>\n",
       "<style scoped>\n",
       "    .dataframe tbody tr th:only-of-type {\n",
       "        vertical-align: middle;\n",
       "    }\n",
       "\n",
       "    .dataframe tbody tr th {\n",
       "        vertical-align: top;\n",
       "    }\n",
       "\n",
       "    .dataframe thead th {\n",
       "        text-align: right;\n",
       "    }\n",
       "</style>\n",
       "<table border=\"1\" class=\"dataframe\">\n",
       "  <thead>\n",
       "    <tr style=\"text-align: right;\">\n",
       "      <th></th>\n",
       "      <th>Weight</th>\n",
       "      <th>Length</th>\n",
       "    </tr>\n",
       "  </thead>\n",
       "  <tbody>\n",
       "    <tr>\n",
       "      <th>count</th>\n",
       "      <td>56.000000</td>\n",
       "      <td>56.000000</td>\n",
       "    </tr>\n",
       "    <tr>\n",
       "      <th>mean</th>\n",
       "      <td>382.239286</td>\n",
       "      <td>27.892857</td>\n",
       "    </tr>\n",
       "    <tr>\n",
       "      <th>std</th>\n",
       "      <td>347.617717</td>\n",
       "      <td>9.021668</td>\n",
       "    </tr>\n",
       "    <tr>\n",
       "      <th>min</th>\n",
       "      <td>5.900000</td>\n",
       "      <td>8.400000</td>\n",
       "    </tr>\n",
       "    <tr>\n",
       "      <th>25%</th>\n",
       "      <td>120.000000</td>\n",
       "      <td>21.825000</td>\n",
       "    </tr>\n",
       "    <tr>\n",
       "      <th>50%</th>\n",
       "      <td>207.500000</td>\n",
       "      <td>25.300000</td>\n",
       "    </tr>\n",
       "    <tr>\n",
       "      <th>75%</th>\n",
       "      <td>692.500000</td>\n",
       "      <td>36.625000</td>\n",
       "    </tr>\n",
       "    <tr>\n",
       "      <th>max</th>\n",
       "      <td>1100.000000</td>\n",
       "      <td>44.000000</td>\n",
       "    </tr>\n",
       "  </tbody>\n",
       "</table>\n",
       "</div>"
      ],
      "text/plain": [
       "            Weight     Length\n",
       "count    56.000000  56.000000\n",
       "mean    382.239286  27.892857\n",
       "std     347.617717   9.021668\n",
       "min       5.900000   8.400000\n",
       "25%     120.000000  21.825000\n",
       "50%     207.500000  25.300000\n",
       "75%     692.500000  36.625000\n",
       "max    1100.000000  44.000000"
      ]
     },
     "execution_count": 5,
     "metadata": {},
     "output_type": "execute_result"
    }
   ],
   "source": [
    "# 수치 컬럼의 데이터 정보 확인\n",
    "perch.describe()"
   ]
  },
  {
   "cell_type": "markdown",
   "id": "aa90e392",
   "metadata": {},
   "source": [
    "(3) 데이터 전처리 <hr>\n",
    "- 결측치, 이상치, 중복값 처리\n",
    "- 데이터 분포, 컬럼 분포, 최빈값, 고유값 <- 산점도, 히스토그램"
   ]
  },
  {
   "cell_type": "markdown",
   "id": "a593e5a5",
   "metadata": {},
   "source": [
    "(3-1) 데이터 분포"
   ]
  },
  {
   "cell_type": "code",
   "execution_count": 6,
   "id": "470bd7bc",
   "metadata": {},
   "outputs": [
    {
     "data": {
      "image/png": "[encoded data removed]",
      "text/plain": [
       "<Figure size 640x480 with 1 Axes>"
      ]
     },
     "metadata": {},
     "output_type": "display_data"
    }
   ],
   "source": [
    "# 무게 - 길이 시각화\n",
    "\n",
    "plt.plot(perch.Weight, perch.Length, 'bo')\n",
    "plt.xlabel('Weight')\n",
    "plt.ylabel('Length')\n",
    "plt.show()"
   ]
  },
  {
   "cell_type": "code",
   "execution_count": 7,
   "id": "85cbe2fb",
   "metadata": {},
   "outputs": [
    {
     "data": {
      "text/html": [
       "<div>\n",
       "<style scoped>\n",
       "    .dataframe tbody tr th:only-of-type {\n",
       "        vertical-align: middle;\n",
       "    }\n",
       "\n",
       "    .dataframe tbody tr th {\n",
       "        vertical-align: top;\n",
       "    }\n",
       "\n",
       "    .dataframe thead th {\n",
       "        text-align: right;\n",
       "    }\n",
       "</style>\n",
       "<table border=\"1\" class=\"dataframe\">\n",
       "  <thead>\n",
       "    <tr style=\"text-align: right;\">\n",
       "      <th></th>\n",
       "      <th>Weight</th>\n",
       "      <th>Length</th>\n",
       "    </tr>\n",
       "  </thead>\n",
       "  <tbody>\n",
       "    <tr>\n",
       "      <th>Weight</th>\n",
       "      <td>1.000000</td>\n",
       "      <td>0.958656</td>\n",
       "    </tr>\n",
       "    <tr>\n",
       "      <th>Length</th>\n",
       "      <td>0.958656</td>\n",
       "      <td>1.000000</td>\n",
       "    </tr>\n",
       "  </tbody>\n",
       "</table>\n",
       "</div>"
      ],
      "text/plain": [
       "          Weight    Length\n",
       "Weight  1.000000  0.958656\n",
       "Length  0.958656  1.000000"
      ]
     },
     "execution_count": 7,
     "metadata": {},
     "output_type": "execute_result"
    }
   ],
   "source": [
    "# 무게 - 길이 상관계수\n",
    "perch.corr(numeric_only=True)\n",
    "\n",
    "# 강한 상관관계, 양의 상관관계."
   ]
  },
  {
   "cell_type": "code",
   "execution_count": 8,
   "id": "9029819b",
   "metadata": {},
   "outputs": [
    {
     "data": {
      "text/html": [
       "<div>\n",
       "<style scoped>\n",
       "    .dataframe tbody tr th:only-of-type {\n",
       "        vertical-align: middle;\n",
       "    }\n",
       "\n",
       "    .dataframe tbody tr th {\n",
       "        vertical-align: top;\n",
       "    }\n",
       "\n",
       "    .dataframe thead th {\n",
       "        text-align: right;\n",
       "    }\n",
       "</style>\n",
       "<table border=\"1\" class=\"dataframe\">\n",
       "  <thead>\n",
       "    <tr style=\"text-align: right;\">\n",
       "      <th></th>\n",
       "      <th>Species</th>\n",
       "      <th>Weight</th>\n",
       "      <th>Length</th>\n",
       "    </tr>\n",
       "  </thead>\n",
       "  <tbody>\n",
       "    <tr>\n",
       "      <th>0</th>\n",
       "      <td>Perch</td>\n",
       "      <td>5.9</td>\n",
       "      <td>8.4</td>\n",
       "    </tr>\n",
       "    <tr>\n",
       "      <th>1</th>\n",
       "      <td>Perch</td>\n",
       "      <td>32.0</td>\n",
       "      <td>13.7</td>\n",
       "    </tr>\n",
       "  </tbody>\n",
       "</table>\n",
       "</div>"
      ],
      "text/plain": [
       "  Species  Weight  Length\n",
       "0   Perch     5.9     8.4\n",
       "1   Perch    32.0    13.7"
      ]
     },
     "execution_count": 8,
     "metadata": {},
     "output_type": "execute_result"
    }
   ],
   "source": [
    "# [분석결과] 무게에 따른 길이는 비례관계\n",
    "# 무게 + 연산 --> 길이\n",
    "perch.iloc[:2]"
   ]
  },
  {
   "cell_type": "code",
   "execution_count": 9,
   "id": "92fe281d",
   "metadata": {},
   "outputs": [
    {
     "data": {
      "text/plain": [
       "0     8.18\n",
       "1    13.40\n",
       "2    15.00\n",
       "Name: Weight, dtype: float64"
      ]
     },
     "execution_count": 9,
     "metadata": {},
     "output_type": "execute_result"
    }
   ],
   "source": [
    "md = (perch.Weight * 1/5) + 7\n",
    "md[:3]"
   ]
  },
  {
   "cell_type": "code",
   "execution_count": 10,
   "id": "1e82ecf5",
   "metadata": {},
   "outputs": [
    {
     "data": {
      "text/plain": [
       "3112.12"
      ]
     },
     "execution_count": 10,
     "metadata": {},
     "output_type": "execute_result"
    }
   ],
   "source": [
    "(perch.Length - md).abs().sum()"
   ]
  },
  {
   "cell_type": "markdown",
   "id": "6be37be8",
   "metadata": {},
   "source": [
    "(4) 학습 진행 <hr>\n",
    "- 방법: 지도 + 회귀(예측) -> 선형 회귀(regression)\n",
    "- "
   ]
  },
  {
   "cell_type": "code",
   "execution_count": 11,
   "id": "f2dd8590",
   "metadata": {},
   "outputs": [],
   "source": [
    "# 모델 인스턴스 생성\n",
    "md = LinearRegression()"
   ]
  },
  {
   "cell_type": "code",
   "execution_count": 12,
   "id": "ce1530bc",
   "metadata": {},
   "outputs": [
    {
     "data": {
      "text/html": [
       "<style>#sk-container-id-1 {color: black;}#sk-container-id-1 pre{padding: 0;}#sk-container-id-1 div.sk-toggleable {background-color: white;}#sk-container-id-1 label.sk-toggleable__label {cursor: pointer;display: block;width: 100%;margin-bottom: 0;padding: 0.3em;box-sizing: border-box;text-align: center;}#sk-container-id-1 label.sk-toggleable__label-arrow:before {content: \"▸\";float: left;margin-right: 0.25em;color: #696969;}#sk-container-id-1 label.sk-toggleable__label-arrow:hover:before {color: black;}#sk-container-id-1 div.sk-estimator:hover label.sk-toggleable__label-arrow:before {color: black;}#sk-container-id-1 div.sk-toggleable__content {max-height: 0;max-width: 0;overflow: hidden;text-align: left;background-color: #f0f8ff;}#sk-container-id-1 div.sk-toggleable__content pre {margin: 0.2em;color: black;border-radius: 0.25em;background-color: #f0f8ff;}#sk-container-id-1 input.sk-toggleable__control:checked~div.sk-toggleable__content {max-height: 200px;max-width: 100%;overflow: auto;}#sk-container-id-1 input.sk-toggleable__control:checked~label.sk-toggleable__label-arrow:before {content: \"▾\";}#sk-container-id-1 div.sk-estimator input.sk-toggleable__control:checked~label.sk-toggleable__label {background-color: #d4ebff;}#sk-container-id-1 div.sk-label input.sk-toggleable__control:checked~label.sk-toggleable__label {background-color: #d4ebff;}#sk-container-id-1 input.sk-hidden--visually {border: 0;clip: rect(1px 1px 1px 1px);clip: rect(1px, 1px, 1px, 1px);height: 1px;margin: -1px;overflow: hidden;padding: 0;position: absolute;width: 1px;}#sk-container-id-1 div.sk-estimator {font-family: monospace;background-color: #f0f8ff;border: 1px dotted black;border-radius: 0.25em;box-sizing: border-box;margin-bottom: 0.5em;}#sk-container-id-1 div.sk-estimator:hover {background-color: #d4ebff;}#sk-container-id-1 div.sk-parallel-item::after {content: \"\";width: 100%;border-bottom: 1px solid gray;flex-grow: 1;}#sk-container-id-1 div.sk-label:hover label.sk-toggleable__label {background-color: #d4ebff;}#sk-container-id-1 div.sk-serial::before {content: \"\";position: absolute;border-left: 1px solid gray;box-sizing: border-box;top: 0;bottom: 0;left: 50%;z-index: 0;}#sk-container-id-1 div.sk-serial {display: flex;flex-direction: column;align-items: center;background-color: white;padding-right: 0.2em;padding-left: 0.2em;position: relative;}#sk-container-id-1 div.sk-item {position: relative;z-index: 1;}#sk-container-id-1 div.sk-parallel {display: flex;align-items: stretch;justify-content: center;background-color: white;position: relative;}#sk-container-id-1 div.sk-item::before, #sk-container-id-1 div.sk-parallel-item::before {content: \"\";position: absolute;border-left: 1px solid gray;box-sizing: border-box;top: 0;bottom: 0;left: 50%;z-index: -1;}#sk-container-id-1 div.sk-parallel-item {display: flex;flex-direction: column;z-index: 1;position: relative;background-color: white;}#sk-container-id-1 div.sk-parallel-item:first-child::after {align-self: flex-end;width: 50%;}#sk-container-id-1 div.sk-parallel-item:last-child::after {align-self: flex-start;width: 50%;}#sk-container-id-1 div.sk-parallel-item:only-child::after {width: 0;}#sk-container-id-1 div.sk-dashed-wrapped {border: 1px dashed gray;margin: 0 0.4em 0.5em 0.4em;box-sizing: border-box;padding-bottom: 0.4em;background-color: white;}#sk-container-id-1 div.sk-label label {font-family: monospace;font-weight: bold;display: inline-block;line-height: 1.2em;}#sk-container-id-1 div.sk-label-container {text-align: center;}#sk-container-id-1 div.sk-container {/* jupyter's `normalize.less` sets `[hidden] { display: none; }` but bootstrap.min.css set `[hidden] { display: none !important; }` so we also need the `!important` here to be able to override the default hidden behavior on the sphinx rendered scikit-learn.org. See: https://github.com/scikit-learn/scikit-learn/issues/21755 */display: inline-block !important;position: relative;}#sk-container-id-1 div.sk-text-repr-fallback {display: none;}</style><div id=\"sk-container-id-1\" class=\"sk-top-container\"><div class=\"sk-text-repr-fallback\"><pre>LinearRegression()</pre><b>In a Jupyter environment, please rerun this cell to show the HTML representation or trust the notebook. <br />On GitHub, the HTML representation is unable to render, please try loading this page with nbviewer.org.</b></div><div class=\"sk-container\" hidden><div class=\"sk-item\"><div class=\"sk-estimator sk-toggleable\"><input class=\"sk-toggleable__control sk-hidden--visually\" id=\"sk-estimator-id-1\" type=\"checkbox\" checked><label for=\"sk-estimator-id-1\" class=\"sk-toggleable__label sk-toggleable__label-arrow\">LinearRegression</label><div class=\"sk-toggleable__content\"><pre>LinearRegression()</pre></div></div></div></div></div>"
      ],
      "text/plain": [
       "LinearRegression()"
      ]
     },
     "execution_count": 12,
     "metadata": {},
     "output_type": "execute_result"
    }
   ],
   "source": [
    "md.fit(perch[['Weight']], perch['Length'])"
   ]
  },
  {
   "cell_type": "code",
   "execution_count": 13,
   "id": "7bb26d8d",
   "metadata": {},
   "outputs": [
    {
     "name": "stdout",
     "output_type": "stream",
     "text": [
      "피쳐에 할당되는 가중치 : [0.02487985]\n",
      "수식에 사용되는 절편 : 18.382802913636723\n"
     ]
    }
   ],
   "source": [
    "print(f'피쳐에 할당되는 가중치 : {md.coef_}')\n",
    "print(f'수식에 사용되는 절편 : {md.intercept_}')"
   ]
  },
  {
   "cell_type": "code",
   "execution_count": 14,
   "id": "dcab5afd",
   "metadata": {},
   "outputs": [
    {
     "data": {
      "text/plain": [
       "0     18.529594\n",
       "1     19.178958\n",
       "2     19.377997\n",
       "3     19.664115\n",
       "4     20.124392\n",
       "5     20.870787\n",
       "6     20.323431\n",
       "7     20.373191\n",
       "8     20.497590\n",
       "9     20.497590\n",
       "10    21.119586\n",
       "11    21.243985\n",
       "12    21.492784\n",
       "13    21.617183\n",
       "14    21.368384\n",
       "15    21.368384\n",
       "16    21.617183\n",
       "17    21.741582\n",
       "18    21.119586\n",
       "19    21.617183\n",
       "20    22.114780\n",
       "21    21.990380\n",
       "22    22.114780\n",
       "23    22.612377\n",
       "24    23.980768\n",
       "25    21.990380\n",
       "26    23.060214\n",
       "27    22.861175\n",
       "28    23.284132\n",
       "29    23.806609\n",
       "30    25.846756\n",
       "31    24.851563\n",
       "32    24.975962\n",
       "33    24.602764\n",
       "34    24.602764\n",
       "35    25.846756\n",
       "36    26.344353\n",
       "37    31.171043\n",
       "38    32.215997\n",
       "39    39.281873\n",
       "40    35.425497\n",
       "41    35.798695\n",
       "42    35.798695\n",
       "43    35.549896\n",
       "44    40.774664\n",
       "45    34.554702\n",
       "46    38.784276\n",
       "47    39.530671\n",
       "48    40.774664\n",
       "49    43.635846\n",
       "50    38.784276\n",
       "51    45.750633\n",
       "52    43.262648\n",
       "53    45.750633\n",
       "54    43.262648\n",
       "55    43.262648\n",
       "Name: Weight, dtype: float64"
      ]
     },
     "execution_count": 14,
     "metadata": {},
     "output_type": "execute_result"
    }
   ],
   "source": [
    "(perch.Weight * md.coef_ + md.intercept_)"
   ]
  },
  {
   "cell_type": "markdown",
   "id": "f6b8fcdb",
   "metadata": {},
   "source": [
    "(5) test"
   ]
  },
  {
   "cell_type": "code",
   "execution_count": 15,
   "id": "32c150c4",
   "metadata": {},
   "outputs": [
    {
     "data": {
      "text/plain": [
       "0.919021073244782"
      ]
     },
     "execution_count": 15,
     "metadata": {},
     "output_type": "execute_result"
    }
   ],
   "source": [
    "# 결정계수 R2 : 얼마나 정답에 가깝게 결과를 예측해내는지를 나타내는 계수값\n",
    "# 범위는 0.0 ~ 1.0\n",
    "# 1에 가까울수록 잘 만들어진 모델\n",
    "md.score(perch[['Weight']], perch['Length'])"
   ]
  },
  {
   "cell_type": "code",
   "execution_count": 16,
   "id": "897dcd4c",
   "metadata": {},
   "outputs": [],
   "source": [
    "y_pre = md.predict(perch[['Weight']])"
   ]
  },
  {
   "cell_type": "code",
   "execution_count": 17,
   "id": "ef679aa6",
   "metadata": {},
   "outputs": [
    {
     "data": {
      "text/plain": [
       "0     10.1\n",
       "1      5.5\n",
       "2      4.4\n",
       "3      3.5\n",
       "4      2.7\n",
       "5      2.9\n",
       "6      1.6\n",
       "7      1.4\n",
       "8      0.9\n",
       "9      0.5\n",
       "10     0.1\n",
       "11     0.2\n",
       "12     0.5\n",
       "13     0.3\n",
       "14    -0.6\n",
       "15    -0.6\n",
       "16    -0.4\n",
       "17    -0.3\n",
       "18    -0.9\n",
       "19    -0.9\n",
       "20    -0.4\n",
       "21    -0.7\n",
       "22    -0.9\n",
       "23    -0.9\n",
       "24     0.0\n",
       "25    -2.0\n",
       "26    -1.5\n",
       "27    -2.1\n",
       "28    -2.3\n",
       "29    -2.7\n",
       "30    -1.5\n",
       "31    -2.6\n",
       "32    -2.5\n",
       "33    -2.9\n",
       "34    -3.4\n",
       "35    -2.9\n",
       "36    -3.7\n",
       "37    -1.6\n",
       "38    -2.3\n",
       "39     4.3\n",
       "40    -1.1\n",
       "41    -0.2\n",
       "42    -1.2\n",
       "43    -1.5\n",
       "44     1.8\n",
       "45    -4.4\n",
       "46    -0.2\n",
       "47    -0.5\n",
       "48     0.8\n",
       "49     3.6\n",
       "50    -1.2\n",
       "51     3.8\n",
       "52     0.3\n",
       "53     2.8\n",
       "54    -0.2\n",
       "55    -0.7\n",
       "Name: Length, dtype: float64"
      ]
     },
     "execution_count": 17,
     "metadata": {},
     "output_type": "execute_result"
    }
   ],
   "source": [
    "np.round(y_pre, 1) - perch.Length"
   ]
  },
  {
   "cell_type": "code",
   "execution_count": 18,
   "id": "054ddbc5",
   "metadata": {},
   "outputs": [
    {
     "data": {
      "text/plain": [
       "0.919021073244782"
      ]
     },
     "execution_count": 18,
     "metadata": {},
     "output_type": "execute_result"
    }
   ],
   "source": [
    "md.score(perch[['Weight']], perch.Length)"
   ]
  },
  {
   "cell_type": "code",
   "execution_count": 19,
   "id": "fedca2f7",
   "metadata": {},
   "outputs": [
    {
     "data": {
      "text/plain": [
       "array([18.5, 19.2, 19.4, 19.7, 20.1, 20.9, 20.3, 20.4, 20.5, 20.5, 21.1,\n",
       "       21.2, 21.5, 21.6, 21.4, 21.4, 21.6, 21.7, 21.1, 21.6, 22.1, 22. ,\n",
       "       22.1, 22.6, 24. , 22. , 23.1, 22.9, 23.3, 23.8, 25.8, 24.9, 25. ,\n",
       "       24.6, 24.6, 25.8, 26.3, 31.2, 32.2, 39.3, 35.4, 35.8, 35.8, 35.5,\n",
       "       40.8, 34.6, 38.8, 39.5, 40.8, 43.6, 38.8, 45.8, 43.3, 45.8, 43.3,\n",
       "       43.3])"
      ]
     },
     "execution_count": 19,
     "metadata": {},
     "output_type": "execute_result"
    }
   ],
   "source": [
    "y_pre = md.predict(perch[['Weight']])\n",
    "y_pre = np.round(y_pre,1)\n",
    "y_pre"
   ]
  },
  {
   "cell_type": "code",
   "execution_count": 20,
   "id": "c873450e",
   "metadata": {},
   "outputs": [
    {
     "data": {
      "text/plain": [
       "0     10.1\n",
       "1      5.5\n",
       "2      4.4\n",
       "3      3.5\n",
       "4      2.7\n",
       "5      2.9\n",
       "6      1.6\n",
       "7      1.4\n",
       "8      0.9\n",
       "9      0.5\n",
       "10     0.1\n",
       "11     0.2\n",
       "12     0.5\n",
       "13     0.3\n",
       "14    -0.6\n",
       "15    -0.6\n",
       "16    -0.4\n",
       "17    -0.3\n",
       "18    -0.9\n",
       "19    -0.9\n",
       "20    -0.4\n",
       "21    -0.7\n",
       "22    -0.9\n",
       "23    -0.9\n",
       "24     0.0\n",
       "25    -2.0\n",
       "26    -1.5\n",
       "27    -2.1\n",
       "28    -2.3\n",
       "29    -2.7\n",
       "30    -1.5\n",
       "31    -2.6\n",
       "32    -2.5\n",
       "33    -2.9\n",
       "34    -3.4\n",
       "35    -2.9\n",
       "36    -3.7\n",
       "37    -1.6\n",
       "38    -2.3\n",
       "39     4.3\n",
       "40    -1.1\n",
       "41    -0.2\n",
       "42    -1.2\n",
       "43    -1.5\n",
       "44     1.8\n",
       "45    -4.4\n",
       "46    -0.2\n",
       "47    -0.5\n",
       "48     0.8\n",
       "49     3.6\n",
       "50    -1.2\n",
       "51     3.8\n",
       "52     0.3\n",
       "53     2.8\n",
       "54    -0.2\n",
       "55    -0.7\n",
       "Name: Length, dtype: float64"
      ]
     },
     "execution_count": 20,
     "metadata": {},
     "output_type": "execute_result"
    }
   ],
   "source": [
    "# 오차 계산 => 예측값 - 정답\n",
    "errorSR = y_pre - perch.Length\n",
    "errorSR"
   ]
  },
  {
   "cell_type": "code",
   "execution_count": 21,
   "id": "f0da033e",
   "metadata": {},
   "outputs": [
    {
     "data": {
      "text/plain": [
       "(array([18.5, 19.2, 19.4, 19.7, 20.1, 20.9, 20.3, 20.4, 20.5, 20.5, 21.1,\n",
       "        21.2, 21.5, 21.6, 21.4, 21.4, 21.6, 21.7, 21.1, 21.6, 22.1, 22. ,\n",
       "        22.1, 22.6, 24. , 22. , 23.1, 22.9, 23.3, 23.8, 25.8, 24.9, 25. ,\n",
       "        24.6, 24.6, 25.8, 26.3, 31.2, 32.2, 39.3, 35.4, 35.8, 35.8, 35.5,\n",
       "        40.8, 34.6, 38.8, 39.5, 40.8, 43.6, 38.8, 45.8, 43.3, 45.8, 43.3,\n",
       "        43.3]),\n",
       " 0      8.4\n",
       " 1     13.7\n",
       " 2     15.0\n",
       " 3     16.2\n",
       " 4     17.4\n",
       " 5     18.0\n",
       " 6     18.7\n",
       " 7     19.0\n",
       " 8     19.6\n",
       " 9     20.0\n",
       " 10    21.0\n",
       " 11    21.0\n",
       " 12    21.0\n",
       " 13    21.3\n",
       " 14    22.0\n",
       " 15    22.0\n",
       " 16    22.0\n",
       " 17    22.0\n",
       " 18    22.0\n",
       " 19    22.5\n",
       " 20    22.5\n",
       " 21    22.7\n",
       " 22    23.0\n",
       " 23    23.5\n",
       " 24    24.0\n",
       " 25    24.0\n",
       " 26    24.6\n",
       " 27    25.0\n",
       " 28    25.6\n",
       " 29    26.5\n",
       " 30    27.3\n",
       " 31    27.5\n",
       " 32    27.5\n",
       " 33    27.5\n",
       " 34    28.0\n",
       " 35    28.7\n",
       " 36    30.0\n",
       " 37    32.8\n",
       " 38    34.5\n",
       " 39    35.0\n",
       " 40    36.5\n",
       " 41    36.0\n",
       " 42    37.0\n",
       " 43    37.0\n",
       " 44    39.0\n",
       " 45    39.0\n",
       " 46    39.0\n",
       " 47    40.0\n",
       " 48    40.0\n",
       " 49    40.0\n",
       " 50    40.0\n",
       " 51    42.0\n",
       " 52    43.0\n",
       " 53    43.0\n",
       " 54    43.5\n",
       " 55    44.0\n",
       " Name: Length, dtype: float64)"
      ]
     },
     "execution_count": 21,
     "metadata": {},
     "output_type": "execute_result"
    }
   ],
   "source": [
    "np.round(y_pre,1), perch.Length"
   ]
  },
  {
   "cell_type": "code",
   "execution_count": 22,
   "id": "f804fd54",
   "metadata": {},
   "outputs": [
    {
     "data": {
      "text/plain": [
       "6.483571428571426"
      ]
     },
     "execution_count": 22,
     "metadata": {},
     "output_type": "execute_result"
    }
   ],
   "source": [
    "(errorSR**2).sum() / errorSR.shape[0] # 분산"
   ]
  },
  {
   "cell_type": "code",
   "execution_count": 23,
   "id": "1344e89f",
   "metadata": {},
   "outputs": [
    {
     "data": {
      "text/plain": [
       "24    0.0\n",
       "Name: Length, dtype: float64"
      ]
     },
     "execution_count": 23,
     "metadata": {},
     "output_type": "execute_result"
    }
   ],
   "source": [
    "# 정답과 완벽히 똑같은 갯수 찾기\n",
    "errorSR[(y_pre-perch.Length) == 0.0]"
   ]
  },
  {
   "cell_type": "markdown",
   "id": "d3fac4f0",
   "metadata": {},
   "source": [
    "(6) 성능 평가 <hr>\n",
    "- 결정 계수값 : 1.0에 가까울수록 좋음\n",
    "- 오차 평균값 : 낮은 값일수록 좋음\n",
    "- 활용 모듈 : sklearn.metrics"
   ]
  },
  {
   "cell_type": "code",
   "execution_count": 24,
   "id": "00ef5316",
   "metadata": {},
   "outputs": [
    {
     "name": "stdout",
     "output_type": "stream",
     "text": [
      "1.3.0\n"
     ]
    }
   ],
   "source": [
    "from sklearn.metrics import mean_squared_error, mean_absolute_error, r2_score\n",
    "import sklearn\n",
    "\n",
    "print(sklearn.__version__)"
   ]
  },
  {
   "cell_type": "code",
   "execution_count": 25,
   "id": "caf0da3c",
   "metadata": {},
   "outputs": [
    {
     "data": {
      "text/plain": [
       "0.918891577369194"
      ]
     },
     "execution_count": 25,
     "metadata": {},
     "output_type": "execute_result"
    }
   ],
   "source": [
    "#결정계수값\n",
    "r2_score(perch.Length, y_pre)"
   ]
  },
  {
   "cell_type": "code",
   "execution_count": 26,
   "id": "659858bd",
   "metadata": {},
   "outputs": [
    {
     "data": {
      "text/plain": [
       "6.483571428571426"
      ]
     },
     "execution_count": 26,
     "metadata": {},
     "output_type": "execute_result"
    }
   ],
   "source": [
    "#평균제곱오차:MSE\n",
    "mean_squared_error(perch.Length, y_pre)"
   ]
  },
  {
   "cell_type": "code",
   "execution_count": 27,
   "id": "a98fb57f",
   "metadata": {},
   "outputs": [
    {
     "data": {
      "text/plain": [
       "2.5462858104642194"
      ]
     },
     "execution_count": 27,
     "metadata": {},
     "output_type": "execute_result"
    }
   ],
   "source": [
    "#루트평균제곱오차: MSE\n",
    "mean_squared_error(perch.Length, y_pre, squared=False)"
   ]
  },
  {
   "cell_type": "code",
   "execution_count": 28,
   "id": "a1411726",
   "metadata": {},
   "outputs": [
    {
     "data": {
      "text/plain": [
       "1.8535714285714282"
      ]
     },
     "execution_count": 28,
     "metadata": {},
     "output_type": "execute_result"
    }
   ],
   "source": [
    "#평균절댓값오차\n",
    "mean_absolute_error(perch.Length, y_pre)"
   ]
  },
  {
   "cell_type": "code",
   "execution_count": null,
   "id": "f2467afd",
   "metadata": {},
   "outputs": [],
   "source": []
  }
 ],
 "metadata": {
  "kernelspec": {
   "display_name": "Python 3 (ipykernel)",
   "language": "python",
   "name": "python3"
  },
  "language_info": {
   "codemirror_mode": {
    "name": "ipython",
    "version": 3
   },
   "file_extension": ".py",
   "mimetype": "text/x-python",
   "name": "python",
   "nbconvert_exporter": "python",
   "pygments_lexer": "ipython3",
   "version": "3.11.5"
  }
 },
 "nbformat": 4,
 "nbformat_minor": 5
}
