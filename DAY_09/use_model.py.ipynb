{
 "cells": [
  {
   "cell_type": "markdown",
   "id": "68d6a666",
   "metadata": {},
   "source": [
    "## 모델을 활용한 서비스 제공"
   ]
  },
  {
   "cell_type": "code",
   "execution_count": 52,
   "id": "c14d2604",
   "metadata": {},
   "outputs": [],
   "source": [
    "# 모듈 로딩\n",
    "from joblib import load"
   ]
  },
  {
   "cell_type": "code",
   "execution_count": 53,
   "id": "6ef5a6ca",
   "metadata": {},
   "outputs": [],
   "source": [
    "# 전역 변수\n",
    "model_file = '../model/iris_dt.pkl'"
   ]
  },
  {
   "cell_type": "code",
   "execution_count": 54,
   "id": "32f5dc76",
   "metadata": {},
   "outputs": [],
   "source": [
    "# 모델 로딩\n",
    "model=load(model_file)"
   ]
  },
  {
   "cell_type": "code",
   "execution_count": 55,
   "id": "f0b17f94",
   "metadata": {},
   "outputs": [
    {
     "name": "stdout",
     "output_type": "stream",
     "text": [
      "['Setosa' 'Versicolor' 'Virginica']\n"
     ]
    }
   ],
   "source": [
    "# 로딩된 모델 확인\n",
    "print(model.classes_)"
   ]
  },
  {
   "cell_type": "code",
   "execution_count": 56,
   "id": "f87eb9ad",
   "metadata": {},
   "outputs": [
    {
     "name": "stdout",
     "output_type": "stream",
     "text": [
      "붓꽃의 꽃받침길이, 꽃받침너비, 꽃잎길이, 꽃잎너비 입력: 1,2,1,3\n",
      "[1.0, 2.0, 1.0, 3.0]\n",
      "해당 꽃은 1.0% Virginica입니다.\n"
     ]
    },
    {
     "name": "stderr",
     "output_type": "stream",
     "text": [
      "C:\\ProgramData\\anaconda3\\Lib\\site-packages\\sklearn\\base.py:464: UserWarning: X does not have valid feature names, but DecisionTreeClassifier was fitted with feature names\n",
      "  warnings.warn(\n",
      "C:\\ProgramData\\anaconda3\\Lib\\site-packages\\sklearn\\base.py:464: UserWarning: X does not have valid feature names, but DecisionTreeClassifier was fitted with feature names\n",
      "  warnings.warn(\n"
     ]
    }
   ],
   "source": [
    "# 붓꽃 정보 입력 => 4개 피쳐\n",
    "datas=input(\"붓꽃의 꽃받침길이, 꽃받침너비, 꽃잎길이, 꽃잎너비 입력: \")\n",
    "if len(datas):\n",
    "    datas_list = list(map(float, datas.split(',')))\n",
    "    print(datas_list)\n",
    "    \n",
    "    # 위에 있는 코드랑 같은 것\n",
    "    #d = datas.split(',')\n",
    "    #ret = map(float, d)\n",
    "    #ret = list(ret)\n",
    "    #print(ret)\n",
    "    \n",
    "    # 입력된 정보에 해당하는 품종 알려주기\n",
    "    # 모델의 predict(2D)\n",
    "    pre_iris = model.predict([datas_list])\n",
    "    proba = model.predict_proba([datas_list])\n",
    "    print(f'해당 꽃은 {proba[0][-1]}% {pre_iris[0]}입니다.')\n",
    "else:\n",
    "    print('입력된 정보가 없습니다')"
   ]
  },
  {
   "cell_type": "code",
   "execution_count": null,
   "id": "5b7bff69",
   "metadata": {},
   "outputs": [],
   "source": []
  }
 ],
 "metadata": {
  "kernelspec": {
   "display_name": "Python 3 (ipykernel)",
   "language": "python",
   "name": "python3"
  },
  "language_info": {
   "codemirror_mode": {
    "name": "ipython",
    "version": 3
   },
   "file_extension": ".py",
   "mimetype": "text/x-python",
   "name": "python",
   "nbconvert_exporter": "python",
   "pygments_lexer": "ipython3",
   "version": "3.11.5"
  }
 },
 "nbformat": 4,
 "nbformat_minor": 5
}
