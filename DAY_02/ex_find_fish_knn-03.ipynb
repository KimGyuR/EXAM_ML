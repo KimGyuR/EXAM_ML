{
 "cells": [
  {
   "cell_type": "markdown",
   "id": "1e385ad7",
   "metadata": {},
   "source": [
    "### KNN\n",
    "- 유유상종 : 끼리끼리 모인다\n",
    "- K개의 가장 가까이 존재하는 데이터를 기준으로 결과를 알고리즘\n",
    "- 데이터와 데이터의 거리를 도출해서 거리 순으로 정렬\n",
    "- K개 만큼 가까이 있는 데이터 도출\n",
    "    => 분류: 다수결 원칙으로 많은 종류의 데이터 결론 도출\n",
    "    => 회귀: 데이터의 평균값으로 결과 도출\n",
    "- 특징: 데이터의 규칙/패턴을 나타내는 수식 없음, 데이터를 메모리 모두 저장 후 거리를 측정해서 결과 도출 => 게으른 학습\n",
    "\n",
    "## Scikit-learn 패키지\n",
    "- 기계학습 방법\n",
    "  (1) 학습 모델 인스턴스 생성\n",
    "  (2) 학습 메서드 => fit(2D(데이터), 1D(라벨))\n",
    "  (3) 테스트 메서드 => score(2D, 1D)\n",
    "  (4) 활용 메서드 => predict(2D) ---> 결과"
   ]
  },
  {
   "cell_type": "markdown",
   "id": "843a1d14",
   "metadata": {},
   "source": [
    "### 목표: 생선 품종 분류 모델\n",
    "- 데이터 : 2가지 품종의 생선 데이터 fish.csv\n",
    "- 피 쳐 : Weight, Length\n",
    "- 타 겟 : Speices\n",
    "- 유 형 : 지도학습 / 분류\n",
    "- 최적의 K 즉, 이웃 데이터 수 찾기 코드 추가"
   ]
  },
  {
   "cell_type": "markdown",
   "id": "cc3e8a5c",
   "metadata": {},
   "source": [
    "(1) 모듈 로딩 & 데이터"
   ]
  },
  {
   "cell_type": "code",
   "execution_count": 33,
   "id": "974b5eb9",
   "metadata": {},
   "outputs": [],
   "source": [
    "import pandas as pd                                 # 데이터 파일 관련 모듈\n",
    "from sklearn.neighbors import KNeighborsClassifier  # 기계학습 관련 모듈"
   ]
  },
  {
   "cell_type": "code",
   "execution_count": 34,
   "id": "09a6a4c8",
   "metadata": {},
   "outputs": [],
   "source": [
    "data_file = '../data/fish.csv'"
   ]
  },
  {
   "cell_type": "code",
   "execution_count": 35,
   "id": "e203597c",
   "metadata": {},
   "outputs": [
    {
     "name": "stdout",
     "output_type": "stream",
     "text": [
      "<class 'pandas.core.frame.DataFrame'>\n",
      "RangeIndex: 159 entries, 0 to 158\n",
      "Data columns (total 3 columns):\n",
      " #   Column   Non-Null Count  Dtype  \n",
      "---  ------   --------------  -----  \n",
      " 0   Species  159 non-null    object \n",
      " 1   Weight   159 non-null    float64\n",
      " 2   Length   159 non-null    float64\n",
      "dtypes: float64(2), object(1)\n",
      "memory usage: 3.9+ KB\n"
     ]
    }
   ],
   "source": [
    "# 5개 피쳐/특성 중 2개의 피쳐/특성 선택\n",
    "fishDF = pd.read_csv(data_file, usecols=[0,1,2])\n",
    "\n",
    "fishDF.info()"
   ]
  },
  {
   "cell_type": "code",
   "execution_count": 36,
   "id": "f6b93008",
   "metadata": {},
   "outputs": [
    {
     "data": {
      "text/html": [
       "<div>\n",
       "<style scoped>\n",
       "    .dataframe tbody tr th:only-of-type {\n",
       "        vertical-align: middle;\n",
       "    }\n",
       "\n",
       "    .dataframe tbody tr th {\n",
       "        vertical-align: top;\n",
       "    }\n",
       "\n",
       "    .dataframe thead th {\n",
       "        text-align: right;\n",
       "    }\n",
       "</style>\n",
       "<table border=\"1\" class=\"dataframe\">\n",
       "  <thead>\n",
       "    <tr style=\"text-align: right;\">\n",
       "      <th></th>\n",
       "      <th>Species</th>\n",
       "      <th>Weight</th>\n",
       "      <th>Length</th>\n",
       "    </tr>\n",
       "  </thead>\n",
       "  <tbody>\n",
       "    <tr>\n",
       "      <th>0</th>\n",
       "      <td>Bream</td>\n",
       "      <td>242.0</td>\n",
       "      <td>25.4</td>\n",
       "    </tr>\n",
       "    <tr>\n",
       "      <th>1</th>\n",
       "      <td>Bream</td>\n",
       "      <td>290.0</td>\n",
       "      <td>26.3</td>\n",
       "    </tr>\n",
       "    <tr>\n",
       "      <th>2</th>\n",
       "      <td>Bream</td>\n",
       "      <td>340.0</td>\n",
       "      <td>26.5</td>\n",
       "    </tr>\n",
       "    <tr>\n",
       "      <th>3</th>\n",
       "      <td>Bream</td>\n",
       "      <td>363.0</td>\n",
       "      <td>29.0</td>\n",
       "    </tr>\n",
       "    <tr>\n",
       "      <th>4</th>\n",
       "      <td>Bream</td>\n",
       "      <td>430.0</td>\n",
       "      <td>29.0</td>\n",
       "    </tr>\n",
       "  </tbody>\n",
       "</table>\n",
       "</div>"
      ],
      "text/plain": [
       "  Species  Weight  Length\n",
       "0   Bream   242.0    25.4\n",
       "1   Bream   290.0    26.3\n",
       "2   Bream   340.0    26.5\n",
       "3   Bream   363.0    29.0\n",
       "4   Bream   430.0    29.0"
      ]
     },
     "execution_count": 36,
     "metadata": {},
     "output_type": "execute_result"
    }
   ],
   "source": [
    "# Bream, Smelt 품종 행만 추출\n",
    "mask = fishDF.Species.isin(['Bream', 'Smelt'])  # Boolean Indexing\n",
    "\n",
    "# 해당 행만 도출\n",
    "twoFishDF = fishDF[mask]\n",
    "twoFishDF.index\n",
    "\n",
    "# 인덱스 정리\n",
    "twoFishDF.reset_index(drop=True, inplace=True)\n",
    "twoFishDF.head(5)"
   ]
  },
  {
   "cell_type": "markdown",
   "id": "8eda24af",
   "metadata": {},
   "source": [
    "(2) 데이터 전처리 <hr>\n",
    "- 정제 : 결측치, 중복데이터, 이상치 처리\n",
    "- 정규화 : 피쳐 스케일링"
   ]
  },
  {
   "cell_type": "code",
   "execution_count": 37,
   "id": "c5e6438c",
   "metadata": {},
   "outputs": [],
   "source": [
    "# 표준 정규분포 => 평균 0, 표준편차 1 => Z-score= 피쳐-평균/표준편차\n",
    "# Weight 컬럼\n",
    "ret1 = twoFishDF.Weight - twoFishDF.Weight.mean()\n",
    "ret1 = ret1/twoFishDF.Weight.std()\n",
    "\n",
    "#twoFishDF.loc[:, 'Weight'] = ret1"
   ]
  },
  {
   "cell_type": "code",
   "execution_count": 38,
   "id": "6c92604f",
   "metadata": {},
   "outputs": [],
   "source": [
    "# Length 컬럼\n",
    "ret2 = twoFishDF.Length - twoFishDF.Length.mean()\n",
    "ret2 = ret2/twoFishDF.Length.std()\n",
    "\n",
    "#twoFishDF.loc[:, 'Length'] = ret2"
   ]
  },
  {
   "cell_type": "markdown",
   "id": "dfe9139d",
   "metadata": {},
   "source": [
    "(3) 기계학습 데이터셋 준비 => 피쳐와 타겟 분리 <hr>"
   ]
  },
  {
   "cell_type": "code",
   "execution_count": 39,
   "id": "8f67467f",
   "metadata": {},
   "outputs": [
    {
     "data": {
      "text/html": [
       "<div>\n",
       "<style scoped>\n",
       "    .dataframe tbody tr th:only-of-type {\n",
       "        vertical-align: middle;\n",
       "    }\n",
       "\n",
       "    .dataframe tbody tr th {\n",
       "        vertical-align: top;\n",
       "    }\n",
       "\n",
       "    .dataframe thead th {\n",
       "        text-align: right;\n",
       "    }\n",
       "</style>\n",
       "<table border=\"1\" class=\"dataframe\">\n",
       "  <thead>\n",
       "    <tr style=\"text-align: right;\">\n",
       "      <th></th>\n",
       "      <th>Weight</th>\n",
       "      <th>Length</th>\n",
       "    </tr>\n",
       "  </thead>\n",
       "  <tbody>\n",
       "    <tr>\n",
       "      <th>0</th>\n",
       "      <td>242.0</td>\n",
       "      <td>25.4</td>\n",
       "    </tr>\n",
       "    <tr>\n",
       "      <th>1</th>\n",
       "      <td>290.0</td>\n",
       "      <td>26.3</td>\n",
       "    </tr>\n",
       "  </tbody>\n",
       "</table>\n",
       "</div>"
      ],
      "text/plain": [
       "   Weight  Length\n",
       "0   242.0    25.4\n",
       "1   290.0    26.3"
      ]
     },
     "execution_count": 39,
     "metadata": {},
     "output_type": "execute_result"
    }
   ],
   "source": [
    "# 피쳐/특성/속성 데이터 추출\n",
    "featureDF = twoFishDF[twoFishDF.columns[1:]]\n",
    "featureDF.head(2)"
   ]
  },
  {
   "cell_type": "code",
   "execution_count": 40,
   "id": "9f55410b",
   "metadata": {},
   "outputs": [
    {
     "data": {
      "text/plain": [
       "0    Bream\n",
       "1    Bream\n",
       "Name: Species, dtype: object"
      ]
     },
     "execution_count": 40,
     "metadata": {},
     "output_type": "execute_result"
    }
   ],
   "source": [
    "# 클래스/타겟/라벨 데이터 추출 ==> 수치화 즉 정수인코딩\n",
    "targetDF=twoFishDF['Species']\n",
    "targetDF.head(2)"
   ]
  },
  {
   "cell_type": "code",
   "execution_count": 41,
   "id": "7f45f785",
   "metadata": {},
   "outputs": [
    {
     "data": {
      "text/plain": [
       "(dtype('int64'),\n",
       " 0    0\n",
       " 1    0\n",
       " Name: Species, dtype: int64)"
      ]
     },
     "execution_count": 41,
     "metadata": {},
     "output_type": "execute_result"
    }
   ],
   "source": [
    "targetDF=targetDF.replace({'Bream':0, 'Smelt':1})\n",
    "targetDF.dtype, targetDF.head(2)"
   ]
  },
  {
   "cell_type": "markdown",
   "id": "e6d50742",
   "metadata": {},
   "source": [
    "(3-1) 학습/테스트 데이터셋 분리 <hr>\n",
    "- 지도학습 중 분류 => [고려] 타겟의 비율\n",
    "- 학습 : 테스트 = 80 : 20"
   ]
  },
  {
   "cell_type": "code",
   "execution_count": 42,
   "id": "33285b8c",
   "metadata": {},
   "outputs": [],
   "source": [
    "# 모듈 로딩\n",
    "from sklearn.model_selection import train_test_split"
   ]
  },
  {
   "cell_type": "code",
   "execution_count": 43,
   "id": "02547e7b",
   "metadata": {},
   "outputs": [],
   "source": [
    "X_train, X_test, y_train, y_test = train_test_split(featureDF, targetDF, test_size=0.2, stratify=targetDF)"
   ]
  },
  {
   "cell_type": "code",
   "execution_count": 44,
   "id": "fbaefd37",
   "metadata": {},
   "outputs": [
    {
     "name": "stdout",
     "output_type": "stream",
     "text": [
      "학습용 데이터셋 ---->\n",
      "(39, 2), 29    0\n",
      "0     0\n",
      "35    1\n",
      "45    1\n",
      "34    0\n",
      "39    1\n",
      "2     0\n",
      "10    0\n",
      "4     0\n",
      "3     0\n",
      "24    0\n",
      "37    1\n",
      "1     0\n",
      "23    0\n",
      "12    0\n",
      "14    0\n",
      "19    0\n",
      "36    1\n",
      "22    0\n",
      "43    1\n",
      "25    0\n",
      "47    1\n",
      "13    0\n",
      "31    0\n",
      "42    1\n",
      "9     0\n",
      "28    0\n",
      "17    0\n",
      "20    0\n",
      "30    0\n",
      "44    1\n",
      "16    0\n",
      "21    0\n",
      "41    1\n",
      "26    0\n",
      "48    1\n",
      "15    0\n",
      "5     0\n",
      "18    0\n",
      "Name: Species, dtype: int64\n",
      "Species\n",
      "0    0.717949\n",
      "1    0.282051\n",
      "Name: count, dtype: float64\n",
      "테스트용 데이터셋 ---->\n",
      "(10, 2), 40    1\n",
      "11    0\n",
      "27    0\n",
      "32    0\n",
      "7     0\n",
      "8     0\n",
      "38    1\n",
      "6     0\n",
      "46    1\n",
      "33    0\n",
      "Name: Species, dtype: int64\n",
      "Weight  Length\n",
      "8.7     11.3      0.1\n",
      "9.7     11.0      0.1\n",
      "12.2    13.0      0.1\n",
      "390.0   30.0      0.1\n",
      "450.0   30.0      0.1\n",
      "500.0   29.7      0.1\n",
      "        31.0      0.1\n",
      "714.0   36.0      0.1\n",
      "925.0   39.5      0.1\n",
      "975.0   41.0      0.1\n",
      "Name: count, dtype: float64\n"
     ]
    }
   ],
   "source": [
    "# 학습 및 테스트 데이터셋 확인\n",
    "print(f'학습용 데이터셋 ---->\\n{X_train.shape}, {y_train}')\n",
    "print(f'{y_train.value_counts()/y_train.shape[0]}')\n",
    "\n",
    "print(f'테스트용 데이터셋 ---->\\n{X_test.shape}, {y_test}')\n",
    "print(f'{X_test.value_counts()/y_test.shape[0]}')"
   ]
  },
  {
   "cell_type": "markdown",
   "id": "a22f38ec",
   "metadata": {},
   "source": [
    "(3-2) 피쳐 데이터의 스케일링 <hr>\n",
    "- 피쳐들의 값의 범위가 다른 것을 통일 시켜줌\n",
    "- scikit-learn의 preprocessing 모듈 활용"
   ]
  },
  {
   "cell_type": "code",
   "execution_count": 45,
   "id": "897f8131",
   "metadata": {},
   "outputs": [],
   "source": [
    "# 모듈 로딩\n",
    "from sklearn.preprocessing import StandardScaler"
   ]
  },
  {
   "cell_type": "code",
   "execution_count": 46,
   "id": "b1f044c5",
   "metadata": {},
   "outputs": [],
   "source": [
    "# 표준정규분포 스케일링 : 평균 0, 편차 1\n",
    "# (1) 스케일러 인스턴스 생성\n",
    "# (2) 데이터에 대한 평균, 표준편차 계산 진행 : fit() 메서드\n",
    "# (3) 데이터에 대한 스케일링 진행 : transform() 메서드"
   ]
  },
  {
   "cell_type": "code",
   "execution_count": 47,
   "id": "c5ba29ee",
   "metadata": {},
   "outputs": [],
   "source": [
    "scaler = StandardScaler()"
   ]
  },
  {
   "cell_type": "code",
   "execution_count": 48,
   "id": "692e6bb2",
   "metadata": {},
   "outputs": [
    {
     "data": {
      "text/html": [
       "<style>#sk-container-id-4 {color: black;}#sk-container-id-4 pre{padding: 0;}#sk-container-id-4 div.sk-toggleable {background-color: white;}#sk-container-id-4 label.sk-toggleable__label {cursor: pointer;display: block;width: 100%;margin-bottom: 0;padding: 0.3em;box-sizing: border-box;text-align: center;}#sk-container-id-4 label.sk-toggleable__label-arrow:before {content: \"▸\";float: left;margin-right: 0.25em;color: #696969;}#sk-container-id-4 label.sk-toggleable__label-arrow:hover:before {color: black;}#sk-container-id-4 div.sk-estimator:hover label.sk-toggleable__label-arrow:before {color: black;}#sk-container-id-4 div.sk-toggleable__content {max-height: 0;max-width: 0;overflow: hidden;text-align: left;background-color: #f0f8ff;}#sk-container-id-4 div.sk-toggleable__content pre {margin: 0.2em;color: black;border-radius: 0.25em;background-color: #f0f8ff;}#sk-container-id-4 input.sk-toggleable__control:checked~div.sk-toggleable__content {max-height: 200px;max-width: 100%;overflow: auto;}#sk-container-id-4 input.sk-toggleable__control:checked~label.sk-toggleable__label-arrow:before {content: \"▾\";}#sk-container-id-4 div.sk-estimator input.sk-toggleable__control:checked~label.sk-toggleable__label {background-color: #d4ebff;}#sk-container-id-4 div.sk-label input.sk-toggleable__control:checked~label.sk-toggleable__label {background-color: #d4ebff;}#sk-container-id-4 input.sk-hidden--visually {border: 0;clip: rect(1px 1px 1px 1px);clip: rect(1px, 1px, 1px, 1px);height: 1px;margin: -1px;overflow: hidden;padding: 0;position: absolute;width: 1px;}#sk-container-id-4 div.sk-estimator {font-family: monospace;background-color: #f0f8ff;border: 1px dotted black;border-radius: 0.25em;box-sizing: border-box;margin-bottom: 0.5em;}#sk-container-id-4 div.sk-estimator:hover {background-color: #d4ebff;}#sk-container-id-4 div.sk-parallel-item::after {content: \"\";width: 100%;border-bottom: 1px solid gray;flex-grow: 1;}#sk-container-id-4 div.sk-label:hover label.sk-toggleable__label {background-color: #d4ebff;}#sk-container-id-4 div.sk-serial::before {content: \"\";position: absolute;border-left: 1px solid gray;box-sizing: border-box;top: 0;bottom: 0;left: 50%;z-index: 0;}#sk-container-id-4 div.sk-serial {display: flex;flex-direction: column;align-items: center;background-color: white;padding-right: 0.2em;padding-left: 0.2em;position: relative;}#sk-container-id-4 div.sk-item {position: relative;z-index: 1;}#sk-container-id-4 div.sk-parallel {display: flex;align-items: stretch;justify-content: center;background-color: white;position: relative;}#sk-container-id-4 div.sk-item::before, #sk-container-id-4 div.sk-parallel-item::before {content: \"\";position: absolute;border-left: 1px solid gray;box-sizing: border-box;top: 0;bottom: 0;left: 50%;z-index: -1;}#sk-container-id-4 div.sk-parallel-item {display: flex;flex-direction: column;z-index: 1;position: relative;background-color: white;}#sk-container-id-4 div.sk-parallel-item:first-child::after {align-self: flex-end;width: 50%;}#sk-container-id-4 div.sk-parallel-item:last-child::after {align-self: flex-start;width: 50%;}#sk-container-id-4 div.sk-parallel-item:only-child::after {width: 0;}#sk-container-id-4 div.sk-dashed-wrapped {border: 1px dashed gray;margin: 0 0.4em 0.5em 0.4em;box-sizing: border-box;padding-bottom: 0.4em;background-color: white;}#sk-container-id-4 div.sk-label label {font-family: monospace;font-weight: bold;display: inline-block;line-height: 1.2em;}#sk-container-id-4 div.sk-label-container {text-align: center;}#sk-container-id-4 div.sk-container {/* jupyter's `normalize.less` sets `[hidden] { display: none; }` but bootstrap.min.css set `[hidden] { display: none !important; }` so we also need the `!important` here to be able to override the default hidden behavior on the sphinx rendered scikit-learn.org. See: https://github.com/scikit-learn/scikit-learn/issues/21755 */display: inline-block !important;position: relative;}#sk-container-id-4 div.sk-text-repr-fallback {display: none;}</style><div id=\"sk-container-id-4\" class=\"sk-top-container\"><div class=\"sk-text-repr-fallback\"><pre>StandardScaler()</pre><b>In a Jupyter environment, please rerun this cell to show the HTML representation or trust the notebook. <br />On GitHub, the HTML representation is unable to render, please try loading this page with nbviewer.org.</b></div><div class=\"sk-container\" hidden><div class=\"sk-item\"><div class=\"sk-estimator sk-toggleable\"><input class=\"sk-toggleable__control sk-hidden--visually\" id=\"sk-estimator-id-4\" type=\"checkbox\" checked><label for=\"sk-estimator-id-4\" class=\"sk-toggleable__label sk-toggleable__label-arrow\">StandardScaler</label><div class=\"sk-toggleable__content\"><pre>StandardScaler()</pre></div></div></div></div></div>"
      ],
      "text/plain": [
       "StandardScaler()"
      ]
     },
     "execution_count": 48,
     "metadata": {},
     "output_type": "execute_result"
    }
   ],
   "source": [
    "scaler.fit(X_train)"
   ]
  },
  {
   "cell_type": "code",
   "execution_count": 49,
   "id": "caf11b33",
   "metadata": {},
   "outputs": [
    {
     "data": {
      "text/plain": [
       "array([443.48461538,  27.00512821])"
      ]
     },
     "execution_count": 49,
     "metadata": {},
     "output_type": "execute_result"
    }
   ],
   "source": [
    "scaler.mean_"
   ]
  },
  {
   "cell_type": "code",
   "execution_count": 50,
   "id": "65e85ce5",
   "metadata": {},
   "outputs": [
    {
     "data": {
      "text/plain": [
       "(39, 2)"
      ]
     },
     "execution_count": 50,
     "metadata": {},
     "output_type": "execute_result"
    }
   ],
   "source": [
    "# 학습용 데이터 피쳐 스케일링\n",
    "scaled_X_train = scaler.transform(X_train)\n",
    "scaled_X_train.shape"
   ]
  },
  {
   "cell_type": "code",
   "execution_count": 51,
   "id": "81821726",
   "metadata": {},
   "outputs": [
    {
     "data": {
      "text/plain": [
       "(10, 2)"
      ]
     },
     "execution_count": 51,
     "metadata": {},
     "output_type": "execute_result"
    }
   ],
   "source": [
    "# 테스트용 데이터 피쳐 스케일링\n",
    "scaled_X_test = scaler.transform(X_test)\n",
    "scaled_X_test.shape"
   ]
  },
  {
   "cell_type": "markdown",
   "id": "85e73c00",
   "metadata": {},
   "source": [
    "(3-3) 시각화 "
   ]
  },
  {
   "cell_type": "code",
   "execution_count": 52,
   "id": "fc24a107",
   "metadata": {},
   "outputs": [],
   "source": [
    "# 모듈 로딩\n",
    "import matplotlib.pyplot as plt"
   ]
  },
  {
   "cell_type": "code",
   "execution_count": 53,
   "id": "33b9f161",
   "metadata": {},
   "outputs": [
    {
     "data": {
      "image/png": "[encoded data removed]",
      "text/plain": [
       "<Figure size 640x480 with 1 Axes>"
      ]
     },
     "metadata": {},
     "output_type": "display_data"
    }
   ],
   "source": [
    "## => 원본 데이터 시각화\n",
    "plt.scatter(X_train.Weight, X_train.Length, c=y_train)\n",
    "plt.xlabel(\"Weight\")\n",
    "plt.ylabel(\"Length\")\n",
    "plt.show()"
   ]
  },
  {
   "cell_type": "code",
   "execution_count": 54,
   "id": "e3709717",
   "metadata": {},
   "outputs": [
    {
     "data": {
      "image/png": "[encoded data removed]",
      "text/plain": [
       "<Figure size 640x480 with 1 Axes>"
      ]
     },
     "metadata": {},
     "output_type": "display_data"
    }
   ],
   "source": [
    "## => 스케일된 데이터 시각화 ==> scaled_X_train ndarray 타입\n",
    "plt.scatter(scaled_X_train[:, 0], scaled_X_train[:, 1], c=y_train)\n",
    "plt.xlabel(\"Weight\")\n",
    "plt.ylabel(\"Length\")\n",
    "plt.show()"
   ]
  },
  {
   "cell_type": "markdown",
   "id": "044569d0",
   "metadata": {},
   "source": [
    "(4) 학습 진행"
   ]
  },
  {
   "cell_type": "code",
   "execution_count": 55,
   "id": "7b1946c2",
   "metadata": {},
   "outputs": [],
   "source": [
    "# 방법 (1) : KNN 알고리즘\n",
    "# 모델 성능 좌우하는 매개변수 => 하이퍼파라미터 : n_neighbors\n",
    "# n_neighbors 즉 k 갯수 : 1 ~ 전체 데이터 수\n",
    "max_k = scaled_X_train.shape[0]\n",
    "\n",
    "test_scoreList = []\n",
    "train_scoreList = []\n",
    "for k in range(1, max_k+1):\n",
    "    \n",
    "    model=KNeighborsClassifier(n_neighbors=k)\n",
    "    model.fit(scaled_X_train, y_train)\n",
    "    \n",
    "    train_scoreList.append(model.score(scaled_X_train, y_train))\n",
    "    test_scoreList.append(model.score(scaled_X_test, y_test))\n",
    "    "
   ]
  },
  {
   "cell_type": "code",
   "execution_count": 56,
   "id": "5f53274c",
   "metadata": {},
   "outputs": [
    {
     "name": "stdout",
     "output_type": "stream",
     "text": [
      "Train Score : [1.0, 1.0, 1.0, 1.0, 1.0, 1.0, 1.0, 1.0, 1.0, 1.0, 1.0, 1.0, 1.0, 1.0, 1.0, 1.0, 1.0, 1.0, 1.0, 1.0, 1.0, 0.717948717948718, 0.717948717948718, 0.717948717948718, 0.717948717948718, 0.717948717948718, 0.717948717948718, 0.717948717948718, 0.717948717948718, 0.717948717948718, 0.717948717948718, 0.717948717948718, 0.717948717948718, 0.717948717948718, 0.717948717948718, 0.717948717948718, 0.717948717948718, 0.717948717948718, 0.717948717948718]\n",
      "Test Score : [1.0, 1.0, 1.0, 1.0, 1.0, 1.0, 1.0, 1.0, 1.0, 1.0, 1.0, 1.0, 1.0, 1.0, 1.0, 1.0, 1.0, 1.0, 1.0, 1.0, 1.0, 0.7, 0.7, 0.7, 0.7, 0.7, 0.7, 0.7, 0.7, 0.7, 0.7, 0.7, 0.7, 0.7, 0.7, 0.7, 0.7, 0.7, 0.7]\n"
     ]
    }
   ],
   "source": [
    "# 학습 및 테스트 데이터에 대한 점수 확인\n",
    "print(f'Train Score : {train_scoreList}')\n",
    "print(f'Test Score : {test_scoreList}')"
   ]
  },
  {
   "cell_type": "code",
   "execution_count": 57,
   "id": "8e013da6",
   "metadata": {},
   "outputs": [
    {
     "data": {
      "image/png": "[encoded data removed]",
      "text/plain": [
       "<Figure size 640x480 with 1 Axes>"
      ]
     },
     "metadata": {},
     "output_type": "display_data"
    }
   ],
   "source": [
    "# K 갯수에 따른 학습용/테스트용 점수 시각화\n",
    "plt.plot(train_scoreList, 'b--', label='Train Score')\n",
    "plt.plot(test_scoreList, 'r--', label='Test Score')\n",
    "plt.title(\"K & Score\")\n",
    "plt.xlabel(\"K\")\n",
    "plt.ylabel(\"Score\")\n",
    "plt.legend()\n",
    "plt.show()"
   ]
  },
  {
   "cell_type": "code",
   "execution_count": null,
   "id": "c2b3e051",
   "metadata": {},
   "outputs": [],
   "source": []
  }
 ],
 "metadata": {
  "kernelspec": {
   "display_name": "Python 3 (ipykernel)",
   "language": "python",
   "name": "python3"
  },
  "language_info": {
   "codemirror_mode": {
    "name": "ipython",
    "version": 3
   },
   "file_extension": ".py",
   "mimetype": "text/x-python",
   "name": "python",
   "nbconvert_exporter": "python",
   "pygments_lexer": "ipython3",
   "version": "3.11.5"
  }
 },
 "nbformat": 4,
 "nbformat_minor": 5
}
