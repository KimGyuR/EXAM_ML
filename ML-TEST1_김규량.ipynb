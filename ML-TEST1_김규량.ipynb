{
 "cells": [
  {
   "cell_type": "code",
   "execution_count": 29,
   "id": "367880f9",
   "metadata": {},
   "outputs": [
    {
     "data": {
      "text/plain": [
       "' \\n많은 데이터 중 필요한 결과를 내기 위한 데이터를 정제해\\n정제된 데이터들을 가지고 기계에 학습시켜 데이터의 상관관계를 내 결론을 짓고 결론에 대한 예측을 함\\n'"
      ]
     },
     "execution_count": 29,
     "metadata": {},
     "output_type": "execute_result"
    }
   ],
   "source": [
    "# 1. 기계학습 프로세스에 대해 간략하게 설명하세요\n",
    "\"\"\" \n",
    "많은 데이터 중 필요한 결과를 내기 위한 데이터를 정제해\n",
    "정제된 데이터들을 가지고 기계에 학습시켜 데이터의 상관관계를 내 결론을 짓고 결론에 대한 예측을 함\n",
    "\"\"\""
   ]
  },
  {
   "cell_type": "code",
   "execution_count": 30,
   "id": "98a04300",
   "metadata": {},
   "outputs": [
    {
     "data": {
      "text/plain": [
       "'\\n기계학습에 필요한 데이터들만 정리해서 만들어낸 구조가 데이터셋입니다.\\n'"
      ]
     },
     "execution_count": 30,
     "metadata": {},
     "output_type": "execute_result"
    }
   ],
   "source": [
    "# 2. 기계학습에 사용되는 데이터셋에 대해 설명하세요\n",
    "\"\"\"\n",
    "기계학습에 필요한 데이터들만 정리해서 만들어낸 구조가 데이터셋입니다.\n",
    "\"\"\""
   ]
  },
  {
   "cell_type": "code",
   "execution_count": 31,
   "id": "0858241f",
   "metadata": {},
   "outputs": [
    {
     "data": {
      "text/plain": [
       "'\\n데이터의 상관관계를 하나하나 기계에 학습을 시킴\\n예를 들어 1+1=2인 것을 주입식으로 넣는 것이 지도학습의 특징\\n'"
      ]
     },
     "execution_count": 31,
     "metadata": {},
     "output_type": "execute_result"
    }
   ],
   "source": [
    "# 3. 지도학습의 특징을 설명하세요\n",
    "\"\"\"\n",
    "데이터의 상관관계를 하나하나 기계에 학습을 시킴\n",
    "예를 들어 1+1=2인 것을 주입식으로 넣는 것이 지도학습의 특징\n",
    "\"\"\""
   ]
  },
  {
   "cell_type": "code",
   "execution_count": 32,
   "id": "c7d13b3d",
   "metadata": {},
   "outputs": [
    {
     "data": {
      "text/plain": [
       "'각각의 데이터들의 상관관계를 나타내 그 중에서 상관관계가 뚜렷한 것들을 골라내 골라낸 데이터를 토대로 전처리를 함'"
      ]
     },
     "execution_count": 32,
     "metadata": {},
     "output_type": "execute_result"
    }
   ],
   "source": [
    "# 4. 데이터 전처리 중 처음 데이터 수집 후 데이터 정제하는 과정에 진행되는 작업을 설명하세요\n",
    "\"\"\"각각의 데이터들의 상관관계를 나타내 그 중에서 상관관계가 뚜렷한 것들을 골라내 골라낸 데이터를 토대로 전처리를 함\"\"\""
   ]
  },
  {
   "cell_type": "code",
   "execution_count": 33,
   "id": "f58da024",
   "metadata": {},
   "outputs": [
    {
     "data": {
      "text/plain": [
       "' 기계학습에 필요한 도구, 어떤 방법으로 가르칠 건지에 대한 도구\\n'"
      ]
     },
     "execution_count": 33,
     "metadata": {},
     "output_type": "execute_result"
    }
   ],
   "source": [
    "# 5. 모델 개념을 설명해 주세요\n",
    "\"\"\" 기계학습에 필요한 도구, 어떤 방법으로 가르칠 건지에 대한 도구\n",
    "\"\"\""
   ]
  },
  {
   "cell_type": "code",
   "execution_count": 34,
   "id": "ccf3b07e",
   "metadata": {},
   "outputs": [],
   "source": [
    "# 6. 모델의 결과 값이 수치를 예측해주는 기계학습은 무엇인가요 : 회귀"
   ]
  },
  {
   "cell_type": "code",
   "execution_count": 35,
   "id": "72589999",
   "metadata": {},
   "outputs": [
    {
     "data": {
      "text/plain": [
       "'정제된 데이터를 받아들이는 매개변수'"
      ]
     },
     "execution_count": 35,
     "metadata": {},
     "output_type": "execute_result"
    }
   ],
   "source": [
    "# 7. 모델 파라미터는 무엇인가요\n",
    "\"\"\"정제된 데이터를 받아들이는 매개변수\"\"\""
   ]
  },
  {
   "cell_type": "code",
   "execution_count": 36,
   "id": "3d7c7ee3",
   "metadata": {},
   "outputs": [],
   "source": [
    "#8. KNN 알고리즘에 대해 설명해 주세요\n"
   ]
  },
  {
   "cell_type": "code",
   "execution_count": 37,
   "id": "148443a2",
   "metadata": {},
   "outputs": [],
   "source": [
    "#9. 하이퍼 파라미터는 무엇인가요\n"
   ]
  },
  {
   "cell_type": "code",
   "execution_count": 38,
   "id": "66ba9e4b",
   "metadata": {},
   "outputs": [
    {
     "data": {
      "text/plain": [
       "' \\n'"
      ]
     },
     "execution_count": 38,
     "metadata": {},
     "output_type": "execute_result"
    }
   ],
   "source": [
    "# 10. Regression의 성능평가 지표들을 설명하세요\n",
    "\"\"\" \n",
    "\"\"\""
   ]
  },
  {
   "cell_type": "code",
   "execution_count": 39,
   "id": "96a77bb8",
   "metadata": {},
   "outputs": [],
   "source": [
    "# 11. LinearRegression 알고리즘에 대해 설명해 주세요\n"
   ]
  },
  {
   "cell_type": "code",
   "execution_count": 40,
   "id": "3256f443",
   "metadata": {},
   "outputs": [
    {
     "data": {
      "text/plain": [
       "' 분류\\n'"
      ]
     },
     "execution_count": 40,
     "metadata": {},
     "output_type": "execute_result"
    }
   ],
   "source": [
    "# 12. Classification 의 성능평가 지표들을 설명하세요\n",
    "\"\"\" 분류\n",
    "\"\"\""
   ]
  },
  {
   "cell_type": "code",
   "execution_count": 41,
   "id": "284e9d8e",
   "metadata": {},
   "outputs": [],
   "source": [
    "# 13. 피쳐공학에 대해 설명하세요\n",
    " "
   ]
  },
  {
   "cell_type": "code",
   "execution_count": 42,
   "id": "fbe55150",
   "metadata": {},
   "outputs": [],
   "source": [
    "# 14. LogisticRegression 알고리즘에 대해 설명해 주세요\n"
   ]
  },
  {
   "cell_type": "code",
   "execution_count": 43,
   "id": "bf47a3eb",
   "metadata": {},
   "outputs": [
    {
     "data": {
      "text/plain": [
       "'\\ntrain데이터와 test데이터를 분석량을 비교할 때\\ntrain데이터가 test데이터보다 양이 많을 경우 과소적합이고\\ntrain데이터가 test데이터보다 양이 적을 경우 과대적합입니다.\\n'"
      ]
     },
     "execution_count": 43,
     "metadata": {},
     "output_type": "execute_result"
    }
   ],
   "source": [
    "# 15. 과대적합 과소적합에 대해 설명해 주세요\n",
    "\"\"\"\n",
    "train데이터와 test데이터를 분석량을 비교할 때\n",
    "train데이터가 test데이터보다 양이 많을 경우 과소적합이고\n",
    "train데이터가 test데이터보다 양이 적을 경우 과대적합입니다.\n",
    "\"\"\""
   ]
  },
  {
   "cell_type": "code",
   "execution_count": 44,
   "id": "ad5866b6",
   "metadata": {},
   "outputs": [
    {
     "ename": "SyntaxError",
     "evalue": "invalid syntax. Maybe you meant '==' or ':=' instead of '='? (3658951413.py, line 17)",
     "output_type": "error",
     "traceback": [
      "\u001b[1;36m  Cell \u001b[1;32mIn[44], line 17\u001b[1;36m\u001b[0m\n\u001b[1;33m    x_train, x_test, y_train, y_test = target, feature, stratify= ,\u001b[0m\n\u001b[1;37m                              ^\u001b[0m\n\u001b[1;31mSyntaxError\u001b[0m\u001b[1;31m:\u001b[0m invalid syntax. Maybe you meant '==' or ':=' instead of '='?\n"
     ]
    }
   ],
   "source": [
    "\"\"\"16. / . 아래 데이터셋을 기반으로 분류 회귀 모델을 완성 후 성능평가까지 구현하세요\n",
    " - : iris.csv 데이터셋 \n",
    " - 조건 \n",
    " * : 3 2 분류 개 품종 중 개 선택하여 이진 분류 진행 \n",
    " * : 3 1 , 4 회귀 개 품종 중 개 선택 개 피쳐 중 꽃잎의 길이값 예측 회귀 \"\"\"\n",
    "import pandas as pd\n",
    "import numpy as np\n",
    "from sklearn.model_selection import train_test_split\n",
    "from sklearn.preprocessing import StandardScaler\n",
    "\n",
    "iris_df = pd.read_csv('./data/iris.csv')\n",
    "\n",
    "iris_df\n",
    "target=iris_df.iloc[2], iris_df.iloc[3]\n",
    "feature=iris_df['variety']\n",
    "\n",
    "x_train, x_test, y_train, y_test = target, feature, stratify= ,\n"
   ]
  },
  {
   "cell_type": "code",
   "execution_count": null,
   "id": "30fc9545",
   "metadata": {},
   "outputs": [],
   "source": []
  }
 ],
 "metadata": {
  "kernelspec": {
   "display_name": "Python 3 (ipykernel)",
   "language": "python",
   "name": "python3"
  },
  "language_info": {
   "codemirror_mode": {
    "name": "ipython",
    "version": 3
   },
   "file_extension": ".py",
   "mimetype": "text/x-python",
   "name": "python",
   "nbconvert_exporter": "python",
   "pygments_lexer": "ipython3",
   "version": "3.11.5"
  }
 },
 "nbformat": 4,
 "nbformat_minor": 5
}
