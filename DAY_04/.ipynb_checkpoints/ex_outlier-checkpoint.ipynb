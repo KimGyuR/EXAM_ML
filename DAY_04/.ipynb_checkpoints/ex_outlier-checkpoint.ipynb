{
 "cells": [
  {
   "cell_type": "markdown",
   "id": "4af0d2dd",
   "metadata": {},
   "source": [
    "### 이상치 데이터 처리\n",
    "- 피쳐/특성에 데이터 값의 범위를 벗어나는 데이터를 의미\n",
    "- 종류 : 잘못입력된 경우, 자연적으로 생성된 데이터\n",
    "    * 잘못입력된 데이터 : 입력 시 오타     ===> 제거 또는 대체\n",
    "    * 자연 생성 데이터 : 연봉, 키, 몸무게, 나이 ===> 분리해서 전용 모델/ 식별용 피쳐\n",
    "- 탐지\n",
    "    * 시각화 확인\n",
    "    * 데이터의 분포를 확인 : Z-Score / IQR(Turkey Fences)\n",
    "- 처리\n",
    "    * 삭제 / 대체 / 분리 모델 / 파생변수 추가"
   ]
  },
  {
   "cell_type": "markdown",
   "id": "6d4cd34a",
   "metadata": {},
   "source": [
    "(1) 모듈 로딩 및 데이터 준비 <hr>"
   ]
  },
  {
   "cell_type": "code",
   "execution_count": 51,
   "id": "d02f5b53",
   "metadata": {},
   "outputs": [],
   "source": [
    "import pandas as pd\n",
    "import matplotlib.pyplot as plt"
   ]
  },
  {
   "cell_type": "code",
   "execution_count": 52,
   "id": "eb740ad1",
   "metadata": {},
   "outputs": [
    {
     "name": "stdout",
     "output_type": "stream",
     "text": [
      "<class 'pandas.core.frame.DataFrame'>\n",
      "RangeIndex: 10 entries, 0 to 9\n",
      "Data columns (total 1 columns):\n",
      " #   Column  Non-Null Count  Dtype\n",
      "---  ------  --------------  -----\n",
      " 0   num     10 non-null     int64\n",
      "dtypes: int64(1)\n",
      "memory usage: 212.0 bytes\n"
     ]
    }
   ],
   "source": [
    "# 임의의 데이터\n",
    "dataDF = pd.DataFrame({\"num\":[1,4,3,2,4,5,-14,2,1,15]})\n",
    "dataDF.info()"
   ]
  },
  {
   "cell_type": "markdown",
   "id": "f00871dc",
   "metadata": {},
   "source": [
    "(2) 데이터 전처리 <hr>"
   ]
  },
  {
   "cell_type": "markdown",
   "id": "f64f2a17",
   "metadata": {},
   "source": [
    "(2-1) 데이터 확인"
   ]
  },
  {
   "cell_type": "code",
   "execution_count": 53,
   "id": "05e6aef3",
   "metadata": {},
   "outputs": [
    {
     "data": {
      "image/png": "[encoded data removed]",
      "text/plain": [
       "<Figure size 640x480 with 1 Axes>"
      ]
     },
     "metadata": {},
     "output_type": "display_data"
    }
   ],
   "source": [
    "# 시각화로 데이터 분포 확인\n",
    "plt.plot(dataDF, 'bo')\n",
    "plt.title(\"[Data Distribution]\")\n",
    "plt.show()"
   ]
  },
  {
   "cell_type": "code",
   "execution_count": 54,
   "id": "410a2781",
   "metadata": {},
   "outputs": [
    {
     "data": {
      "image/png": "[encoded data removed]",
      "text/plain": [
       "<Figure size 640x480 with 1 Axes>"
      ]
     },
     "metadata": {},
     "output_type": "display_data"
    }
   ],
   "source": [
    "plt.hist(dataDF)\n",
    "plt.title(\"[Data Distribution]\")\n",
    "plt.show()"
   ]
  },
  {
   "cell_type": "markdown",
   "id": "927b1c73",
   "metadata": {},
   "source": [
    "(2-2) 불필요 데이터 체크 => 결측치, 이상치"
   ]
  },
  {
   "cell_type": "code",
   "execution_count": 55,
   "id": "67dacef8",
   "metadata": {},
   "outputs": [
    {
     "data": {
      "text/plain": [
       "num    0\n",
       "dtype: int64"
      ]
     },
     "execution_count": 55,
     "metadata": {},
     "output_type": "execute_result"
    }
   ],
   "source": [
    "# 결측치\n",
    "dataDF.isnull().sum()"
   ]
  },
  {
   "cell_type": "code",
   "execution_count": 56,
   "id": "f9a54a14",
   "metadata": {},
   "outputs": [],
   "source": [
    "# 이상치 탐지 - 방법(1) 평균과 편차를 이용한 탐지 Z-Score\n",
    "# Z-Score = (데이터 - 평균) / (표준편차)\n",
    "mean_value = dataDF.mean()\n",
    "std_value = dataDF.std()\n",
    "\n",
    "z_data = (dataDF - mean_value) / std_value"
   ]
  },
  {
   "cell_type": "code",
   "execution_count": 57,
   "id": "15d62f75",
   "metadata": {},
   "outputs": [],
   "source": [
    "# 양끝단 제거를 위한 기준값 => 1.0\n",
    "base = 1.0\n",
    "mask = z_data.abs()>base"
   ]
  },
  {
   "cell_type": "code",
   "execution_count": 58,
   "id": "512e55ed",
   "metadata": {},
   "outputs": [
    {
     "data": {
      "text/html": [
       "<div>\n",
       "<style scoped>\n",
       "    .dataframe tbody tr th:only-of-type {\n",
       "        vertical-align: middle;\n",
       "    }\n",
       "\n",
       "    .dataframe tbody tr th {\n",
       "        vertical-align: top;\n",
       "    }\n",
       "\n",
       "    .dataframe thead th {\n",
       "        text-align: right;\n",
       "    }\n",
       "</style>\n",
       "<table border=\"1\" class=\"dataframe\">\n",
       "  <thead>\n",
       "    <tr style=\"text-align: right;\">\n",
       "      <th></th>\n",
       "      <th>num</th>\n",
       "    </tr>\n",
       "  </thead>\n",
       "  <tbody>\n",
       "    <tr>\n",
       "      <th>0</th>\n",
       "      <td>1.0</td>\n",
       "    </tr>\n",
       "    <tr>\n",
       "      <th>1</th>\n",
       "      <td>4.0</td>\n",
       "    </tr>\n",
       "    <tr>\n",
       "      <th>2</th>\n",
       "      <td>3.0</td>\n",
       "    </tr>\n",
       "    <tr>\n",
       "      <th>3</th>\n",
       "      <td>2.0</td>\n",
       "    </tr>\n",
       "    <tr>\n",
       "      <th>4</th>\n",
       "      <td>4.0</td>\n",
       "    </tr>\n",
       "    <tr>\n",
       "      <th>5</th>\n",
       "      <td>5.0</td>\n",
       "    </tr>\n",
       "    <tr>\n",
       "      <th>7</th>\n",
       "      <td>2.0</td>\n",
       "    </tr>\n",
       "    <tr>\n",
       "      <th>8</th>\n",
       "      <td>1.0</td>\n",
       "    </tr>\n",
       "  </tbody>\n",
       "</table>\n",
       "</div>"
      ],
      "text/plain": [
       "   num\n",
       "0  1.0\n",
       "1  4.0\n",
       "2  3.0\n",
       "3  2.0\n",
       "4  4.0\n",
       "5  5.0\n",
       "7  2.0\n",
       "8  1.0"
      ]
     },
     "execution_count": 58,
     "metadata": {},
     "output_type": "execute_result"
    }
   ],
   "source": [
    "dataDF[~mask].dropna()"
   ]
  },
  {
   "cell_type": "code",
   "execution_count": 59,
   "id": "af24edb6",
   "metadata": {},
   "outputs": [
    {
     "name": "stdout",
     "output_type": "stream",
     "text": [
      "q1:num    1.25\n",
      "Name: 0.25, dtype: float64\n",
      "q3:num    4.0\n",
      "Name: 0.75, dtype: float64\n",
      "iqr:num    2.75\n",
      "dtype: float64\n",
      "lower:num   -2.875\n",
      "dtype: float64\n",
      "upper:num    8.125\n",
      "dtype: float64\n"
     ]
    }
   ],
   "source": [
    "# 이상치 탐지 - 방법(2) 데이터를 4등분해서 가운데 데이터를 기준으로 이상치 탐지\n",
    "q1=dataDF.quantile(0.25)\n",
    "q3=dataDF.quantile(0.75)\n",
    "iqr=q3-q1\n",
    "\n",
    "# 이상치로 판단할 기준되는 값\n",
    "lower=q1-(iqr*1.5)\n",
    "upper=q3+(iqr*1.5)\n",
    "\n",
    "print(f'q1:{q1}\\nq3:{q3}\\niqr:{iqr}')\n",
    "print(f'lower:{lower}\\nupper:{upper}')"
   ]
  },
  {
   "cell_type": "code",
   "execution_count": 60,
   "id": "fa2564eb",
   "metadata": {},
   "outputs": [
    {
     "data": {
      "text/plain": [
       "(     num\n",
       " 0  False\n",
       " 1  False\n",
       " 2  False\n",
       " 3  False\n",
       " 4  False\n",
       " 5  False\n",
       " 6   True\n",
       " 7  False\n",
       " 8  False\n",
       " 9  False,\n",
       "      num\n",
       " 0  False\n",
       " 1  False\n",
       " 2  False\n",
       " 3  False\n",
       " 4  False\n",
       " 5  False\n",
       " 6  False\n",
       " 7  False\n",
       " 8  False\n",
       " 9   True)"
      ]
     },
     "execution_count": 60,
     "metadata": {},
     "output_type": "execute_result"
    }
   ],
   "source": [
    "dataDF<lower, dataDF>upper"
   ]
  },
  {
   "cell_type": "code",
   "execution_count": 61,
   "id": "74046129",
   "metadata": {},
   "outputs": [
    {
     "data": {
      "image/png": "[encoded data removed]",
      "text/plain": [
       "<Figure size 640x480 with 1 Axes>"
      ]
     },
     "metadata": {},
     "output_type": "display_data"
    }
   ],
   "source": [
    "# 시각화\n",
    "bp_obj = plt.boxplot(dataDF)\n",
    "plt.show()"
   ]
  },
  {
   "cell_type": "code",
   "execution_count": 62,
   "id": "7c1943b9",
   "metadata": {},
   "outputs": [
    {
     "data": {
      "text/plain": [
       "{'whiskers': [<matplotlib.lines.Line2D at 0x1c8e1483150>,\n",
       "  <matplotlib.lines.Line2D at 0x1c8e148c990>],\n",
       " 'caps': [<matplotlib.lines.Line2D at 0x1c8e148e050>,\n",
       "  <matplotlib.lines.Line2D at 0x1c8e148f850>],\n",
       " 'boxes': [<matplotlib.lines.Line2D at 0x1c8e1482350>],\n",
       " 'medians': [<matplotlib.lines.Line2D at 0x1c8e0f91190>],\n",
       " 'fliers': [<matplotlib.lines.Line2D at 0x1c8e027a410>],\n",
       " 'means': []}"
      ]
     },
     "execution_count": 62,
     "metadata": {},
     "output_type": "execute_result"
    }
   ],
   "source": [
    "bp_obj"
   ]
  },
  {
   "cell_type": "code",
   "execution_count": 63,
   "id": "4ef8595f",
   "metadata": {},
   "outputs": [
    {
     "data": {
      "text/plain": [
       "dict_keys(['whiskers', 'caps', 'boxes', 'medians', 'fliers', 'means'])"
      ]
     },
     "execution_count": 63,
     "metadata": {},
     "output_type": "execute_result"
    }
   ],
   "source": [
    "bp_obj.keys()"
   ]
  },
  {
   "cell_type": "code",
   "execution_count": 64,
   "id": "6b243d2a",
   "metadata": {},
   "outputs": [
    {
     "data": {
      "text/plain": [
       "<matplotlib.lines.Line2D at 0x1c8e1483150>"
      ]
     },
     "execution_count": 64,
     "metadata": {},
     "output_type": "execute_result"
    }
   ],
   "source": [
    "bp_obj['whiskers'][0]"
   ]
  },
  {
   "cell_type": "code",
   "execution_count": 65,
   "id": "f9468be6",
   "metadata": {},
   "outputs": [
    {
     "data": {
      "text/plain": [
       "(array([1.25, 1.  ]), array([4., 5.]))"
      ]
     },
     "execution_count": 65,
     "metadata": {},
     "output_type": "execute_result"
    }
   ],
   "source": [
    "# q1, min, q3, max\n",
    "bp_obj['whiskers'][0].get_ydata(), bp_obj['whiskers'][1].get_ydata()"
   ]
  },
  {
   "cell_type": "code",
   "execution_count": 66,
   "id": "4928e0c2",
   "metadata": {},
   "outputs": [
    {
     "data": {
      "text/plain": [
       "array([2.5, 2.5])"
      ]
     },
     "execution_count": 66,
     "metadata": {},
     "output_type": "execute_result"
    }
   ],
   "source": [
    "bp_obj['medians'][0].get_ydata()"
   ]
  },
  {
   "cell_type": "code",
   "execution_count": 67,
   "id": "63e8a756",
   "metadata": {},
   "outputs": [
    {
     "data": {
      "text/plain": [
       "array([1.25, 1.25, 4.  , 4.  , 1.25])"
      ]
     },
     "execution_count": 67,
     "metadata": {},
     "output_type": "execute_result"
    }
   ],
   "source": [
    "bp_obj['boxes'][0].get_ydata()"
   ]
  },
  {
   "cell_type": "code",
   "execution_count": 68,
   "id": "496ccc93",
   "metadata": {},
   "outputs": [
    {
     "data": {
      "text/plain": [
       "array([-14,  15], dtype=int64)"
      ]
     },
     "execution_count": 68,
     "metadata": {},
     "output_type": "execute_result"
    }
   ],
   "source": [
    "bp_obj['fliers'][0].get_ydata()"
   ]
  },
  {
   "cell_type": "code",
   "execution_count": null,
   "id": "c0ea32f2",
   "metadata": {},
   "outputs": [],
   "source": []
  }
 ],
 "metadata": {
  "kernelspec": {
   "display_name": "Python 3 (ipykernel)",
   "language": "python",
   "name": "python3"
  },
  "language_info": {
   "codemirror_mode": {
    "name": "ipython",
    "version": 3
   },
   "file_extension": ".py",
   "mimetype": "text/x-python",
   "name": "python",
   "nbconvert_exporter": "python",
   "pygments_lexer": "ipython3",
   "version": "3.11.5"
  }
 },
 "nbformat": 4,
 "nbformat_minor": 5
}
