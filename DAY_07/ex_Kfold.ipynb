{
 "cells": [
  {
   "cell_type": "markdown",
   "id": "bf58e8f9",
   "metadata": {},
   "source": [
    "### 교차 검증\n",
    "- 부족한 데이터셋 및 특성 데이터에 과대적합되는 문제 해결하기 위한 방안\n",
    "- 학습 데이터셋을 일정 크기의 데이터로 n개 분리 후 1/n은 검증용, 나머지는 학습용으로 사용"
   ]
  },
  {
   "cell_type": "markdown",
   "id": "31c8bd14",
   "metadata": {},
   "source": [
    "[1] 모듈 로딩 및 데이터 준비 <hr>"
   ]
  },
  {
   "cell_type": "code",
   "execution_count": 255,
   "id": "abef0476",
   "metadata": {},
   "outputs": [],
   "source": [
    "import numpy as np\n",
    "from sklearn.model_selection import KFold\n",
    "\n",
    "X = np.array([[1, 2], [3, 4], [1, 2], [3, 4]])\n",
    "y = np.array([1, 2, 3, 4])"
   ]
  },
  {
   "cell_type": "code",
   "execution_count": 256,
   "id": "e4e79fb9",
   "metadata": {},
   "outputs": [],
   "source": [
    "# KFold 인스턴스 생성 => 데이터를 2개로 분할해주는 객체\n",
    "k_fold = KFold(n_splits=2)"
   ]
  },
  {
   "cell_type": "code",
   "execution_count": 257,
   "id": "6abf7ff3",
   "metadata": {},
   "outputs": [
    {
     "name": "stdout",
     "output_type": "stream",
     "text": [
      "(array([2, 3]), array([0, 1]))\n",
      "(array([0, 1]), array([2, 3]))\n"
     ]
    }
   ],
   "source": [
    "# 데이터를 분할\n",
    "datasets = k_fold.split(X, y)\n",
    "\n",
    "for dataset in datasets:\n",
    "    print(dataset)"
   ]
  },
  {
   "cell_type": "code",
   "execution_count": 258,
   "id": "bb4bae95",
   "metadata": {},
   "outputs": [
    {
     "name": "stdout",
     "output_type": "stream",
     "text": [
      "<class 'pandas.core.frame.DataFrame'>\n",
      "RangeIndex: 56 entries, 0 to 55\n",
      "Data columns (total 4 columns):\n",
      " #   Column  Non-Null Count  Dtype  \n",
      "---  ------  --------------  -----  \n",
      " 0   Weight  56 non-null     float64\n",
      " 1   Length  56 non-null     float64\n",
      " 2   Height  56 non-null     float64\n",
      " 3   Width   56 non-null     float64\n",
      "dtypes: float64(4)\n",
      "memory usage: 1.9 KB\n"
     ]
    }
   ],
   "source": [
    "# perch3.csv 파일 데이터 기본 5 등분\n",
    "import pandas as pd\n",
    "perchDF = pd.read_csv('../data/perch3.csv')\n",
    "perchDF.info()"
   ]
  },
  {
   "cell_type": "code",
   "execution_count": 259,
   "id": "0353bf48",
   "metadata": {},
   "outputs": [
    {
     "name": "stdout",
     "output_type": "stream",
     "text": [
      "0 => (37,) (19,)\n",
      "1 => (37,) (19,)\n",
      "2 => (38,) (18,)\n"
     ]
    }
   ],
   "source": [
    "# perchDF => 5등분\n",
    "fold_5 = KFold(n_splits=3)\n",
    "\n",
    "datasets = fold_5.split(perchDF)\n",
    "\n",
    "for index, (train, test) in enumerate(datasets):\n",
    "    print(f'{index} => {train.shape} {test.shape}')"
   ]
  },
  {
   "cell_type": "code",
   "execution_count": 260,
   "id": "9037a6e8",
   "metadata": {},
   "outputs": [
    {
     "name": "stdout",
     "output_type": "stream",
     "text": [
      "0 => (44,) (12,)\n",
      "1 => (45,) (11,)\n",
      "2 => (45,) (11,)\n",
      "3 => (45,) (11,)\n",
      "4 => (45,) (11,)\n"
     ]
    }
   ],
   "source": [
    "# perchDF => 5등분(기본값)\n",
    "fold_5 = KFold()\n",
    "\n",
    "datasets = fold_5.split(perchDF)\n",
    "\n",
    "for index, (train, test) in enumerate(datasets):\n",
    "    print(f'{index} => {train.shape} {test.shape}')"
   ]
  },
  {
   "cell_type": "code",
   "execution_count": 261,
   "id": "146d6472",
   "metadata": {},
   "outputs": [
    {
     "name": "stdout",
     "output_type": "stream",
     "text": [
      "<class 'pandas.core.frame.DataFrame'>\n",
      "RangeIndex: 150 entries, 0 to 149\n",
      "Data columns (total 5 columns):\n",
      " #   Column        Non-Null Count  Dtype  \n",
      "---  ------        --------------  -----  \n",
      " 0   sepal.length  150 non-null    float64\n",
      " 1   sepal.width   150 non-null    float64\n",
      " 2   petal.length  150 non-null    float64\n",
      " 3   petal.width   150 non-null    float64\n",
      " 4   variety       150 non-null    object \n",
      "dtypes: float64(4), object(1)\n",
      "memory usage: 6.0+ KB\n"
     ]
    }
   ],
   "source": [
    "# 타겟이 분류인 경우\n",
    "irisDF = pd.read_csv('../data/iris.csv')\n",
    "irisDF.info()"
   ]
  },
  {
   "cell_type": "code",
   "execution_count": 262,
   "id": "ffcd2274",
   "metadata": {},
   "outputs": [],
   "source": [
    "k_fold = KFold(n_splits=3, shuffle=True)\n",
    "ret = k_fold.split(irisDF[irisDF.columns[:-1]])"
   ]
  },
  {
   "cell_type": "code",
   "execution_count": 263,
   "id": "c5c7a3bf",
   "metadata": {},
   "outputs": [],
   "source": [
    "from sklearn.linear_model import LogisticRegression"
   ]
  },
  {
   "cell_type": "code",
   "execution_count": 264,
   "id": "623522e2",
   "metadata": {},
   "outputs": [
    {
     "name": "stdout",
     "output_type": "stream",
     "text": [
      "variety\n",
      "Setosa        0.35\n",
      "Versicolor    0.34\n",
      "Virginica     0.31\n",
      "Name: count, dtype: float64\n",
      "variety\n",
      "Virginica     0.38\n",
      "Versicolor    0.32\n",
      "Setosa        0.30\n",
      "Name: count, dtype: float64\n",
      "variety\n",
      "Virginica     0.34\n",
      "Setosa        0.33\n",
      "Versicolor    0.33\n",
      "Name: count, dtype: float64\n",
      "variety\n",
      "Setosa        0.34\n",
      "Versicolor    0.34\n",
      "Virginica     0.32\n",
      "Name: count, dtype: float64\n",
      "variety\n",
      "Virginica     0.35\n",
      "Versicolor    0.33\n",
      "Setosa        0.32\n",
      "Name: count, dtype: float64\n",
      "variety\n",
      "Setosa        0.36\n",
      "Versicolor    0.34\n",
      "Virginica     0.30\n",
      "Name: count, dtype: float64\n"
     ]
    }
   ],
   "source": [
    "train_score3 = []\n",
    "    \n",
    "for idx, (train, test) in enumerate(ret):\n",
    "    # 학습용, 테스트용 인덱스 반환\n",
    "    #print(idx, train, test)\n",
    "    train_idx = train.tolist()\n",
    "    test_idx = test.tolist()\n",
    "\n",
    "    # 인덱스에 해당하는 데이터셋 추출\n",
    "    trainDF=irisDF.iloc[train_idx]\n",
    "    testDF=irisDF.iloc[test_idx]\n",
    "    print(trainDF['variety'].value_counts()/trainDF.shape[0])\n",
    "    print(testDF['variety'].value_counts()/testDF.shape[0])\n",
    "\n",
    "    X_train=trainDF[trainDF.columns[:-1]]\n",
    "    y_train=trainDF[trainDF.columns[-1]]\n",
    "\n",
    "    X_test=testDF[testDF.columns[:-1]]\n",
    "    y_test=testDF[testDF.columns[-1]]\n",
    "\n",
    "    # 분류 모델 학습\n",
    "    log_model = LogisticRegression(max_iter=1000, solver='liblinear')\n",
    "    log_model.fit(X_train, y_train)\n",
    "\n",
    "    # 훈련 및 검증용 성능\n",
    "    train_score = log_model.score(X_train, y_train)\n",
    "    test_score = log_model.score(X_test, y_test)\n",
    "    \n",
    "    # 예측\n",
    "    pre_y = log_model.predict(X_test)\n",
    "    \n",
    "    train_score3.append(train_score)"
   ]
  },
  {
   "cell_type": "code",
   "execution_count": 265,
   "id": "45751000",
   "metadata": {},
   "outputs": [
    {
     "data": {
      "text/plain": [
       "0.9633333333333333"
      ]
     },
     "execution_count": 265,
     "metadata": {},
     "output_type": "execute_result"
    }
   ],
   "source": [
    "sum(train_score3)/3"
   ]
  },
  {
   "cell_type": "code",
   "execution_count": null,
   "id": "ed645c4e",
   "metadata": {},
   "outputs": [],
   "source": []
  },
  {
   "cell_type": "code",
   "execution_count": null,
   "id": "efbd8bf4",
   "metadata": {},
   "outputs": [],
   "source": []
  }
 ],
 "metadata": {
  "kernelspec": {
   "display_name": "Python 3 (ipykernel)",
   "language": "python",
   "name": "python3"
  },
  "language_info": {
   "codemirror_mode": {
    "name": "ipython",
    "version": 3
   },
   "file_extension": ".py",
   "mimetype": "text/x-python",
   "name": "python",
   "nbconvert_exporter": "python",
   "pygments_lexer": "ipython3",
   "version": "3.11.5"
  }
 },
 "nbformat": 4,
 "nbformat_minor": 5
}
